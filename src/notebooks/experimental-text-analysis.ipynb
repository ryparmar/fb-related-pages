{
 "cells": [
  {
   "cell_type": "markdown",
   "metadata": {},
   "source": [
    "### This notebook is experimental (fancier word for dirty) and unfinished."
   ]
  },
  {
   "cell_type": "code",
   "execution_count": null,
   "metadata": {},
   "outputs": [],
   "source": [
    "%matplotlib inline\n",
    "import pandas as pd"
   ]
  },
  {
   "cell_type": "markdown",
   "metadata": {},
   "source": [
    "## Read the data"
   ]
  },
  {
   "cell_type": "code",
   "execution_count": null,
   "metadata": {},
   "outputs": [],
   "source": [
    "df1 = pd.read_csv('data/uniq_relation_data1.csv',\n",
    "                 sep=';',\n",
    "                 header=None)"
   ]
  },
  {
   "cell_type": "code",
   "execution_count": null,
   "metadata": {},
   "outputs": [],
   "source": [
    "df1.head(2)"
   ]
  },
  {
   "cell_type": "code",
   "execution_count": null,
   "metadata": {},
   "outputs": [],
   "source": [
    "df2 = pd.read_csv('data/uniq_relation_data2.csv',\n",
    "                 sep=';',\n",
    "                 header=None)"
   ]
  },
  {
   "cell_type": "code",
   "execution_count": null,
   "metadata": {},
   "outputs": [],
   "source": [
    "df2.head(2)"
   ]
  },
  {
   "cell_type": "code",
   "execution_count": null,
   "metadata": {},
   "outputs": [],
   "source": [
    "# Create list of unique pages / nodes and page2id dict\n",
    "uniq = []\n",
    "for i, r in df1.iterrows():\n",
    "    uniq.append(list(r))\n",
    "    \n",
    "for i, r in df2.iterrows():\n",
    "    uniq.append(list(r))\n",
    "    \n",
    "uniq_pages = sorted([i for i in list(set(itertools.chain.from_iterable(uniq))) if isinstance(i, str)])\n",
    "print(f\"{len(uniq_pages)} nodes in total\\n{uniq_pages}\")"
   ]
  },
  {
   "cell_type": "code",
   "execution_count": null,
   "metadata": {},
   "outputs": [],
   "source": [
    "# Create list of init pages and related_1 pages\n",
    "initial = list(df1[0])\n",
    "related_1 = list(df2[0])"
   ]
  },
  {
   "cell_type": "code",
   "execution_count": null,
   "metadata": {},
   "outputs": [],
   "source": [
    "page2id = {name: i for i, name in enumerate(uniq_pages)}\n",
    "page2id"
   ]
  },
  {
   "cell_type": "markdown",
   "metadata": {},
   "source": [
    "## Play with the content of posts"
   ]
  },
  {
   "cell_type": "code",
   "execution_count": null,
   "metadata": {},
   "outputs": [],
   "source": [
    "## create a single column of pagenames\n",
    "with open('data/data2-uniq.csv', 'r') as f:\n",
    "    d = f.readlines()\n",
    "    with open('data/pagenames2-uniq', 'w') as fw:\n",
    "    for l in d:\n",
    "        for page in l.split(';')[1:]:\n",
    "            if page:\n",
    "                fw.write(f\"{page.strip()}\\n\")\n",
    "                \n",
    "## create a single column of links"
   ]
  },
  {
   "cell_type": "code",
   "execution_count": null,
   "metadata": {},
   "outputs": [],
   "source": [
    "import json\n",
    "import spacy"
   ]
  },
  {
   "cell_type": "code",
   "execution_count": null,
   "metadata": {},
   "outputs": [],
   "source": [
    "with open('data-content-pagenames.json', 'r') as f:\n",
    "    data = json.load(f)"
   ]
  },
  {
   "cell_type": "code",
   "execution_count": null,
   "metadata": {},
   "outputs": [],
   "source": [
    "with open('data-content-pagenames1.json', 'r') as f:\n",
    "    data1 = json.load(f)"
   ]
  },
  {
   "cell_type": "code",
   "execution_count": null,
   "metadata": {},
   "outputs": [],
   "source": [
    "data.keys()"
   ]
  },
  {
   "cell_type": "code",
   "execution_count": null,
   "metadata": {},
   "outputs": [],
   "source": [
    "for k, v in data.items():\n",
    "    print(f\"{k}: posts: {len(v)} words-rough: {len([ii for i in v for ii in i.split()])}\")"
   ]
  },
  {
   "cell_type": "code",
   "execution_count": null,
   "metadata": {},
   "outputs": [],
   "source": [
    "data['NatureClimateChange']"
   ]
  },
  {
   "cell_type": "code",
   "execution_count": null,
   "metadata": {},
   "outputs": [],
   "source": [
    "# download and load english model\n",
    "# !python3 -m spacy download en_core_web_sm\n",
    "# nlp = spacy.load(\"en_core_web_sm\")\n",
    "\n",
    "# !python3 -m spacy download en_core_web_lg  # larger model contains much better word vectors\n",
    "nlp = spacy.load(\"en_core_web_lg\")"
   ]
  },
  {
   "cell_type": "markdown",
   "metadata": {},
   "source": [
    "## Prepare word vectors / embeddings"
   ]
  },
  {
   "cell_type": "code",
   "execution_count": null,
   "metadata": {},
   "outputs": [],
   "source": [
    "# post vector = average of token vectors (token = word) in the post\n",
    "# each word/post vector has dimension 300\n",
    "# non-usual words / out of vocabulary words get zero embeddings\n",
    "# embeddings = {k: [nlp(post).vector for post in v] for k, v in data.items()}\n",
    "embeddings = {k: nlp(\"\\n\\n\".join([post for post in v])).vector for k, v in data.items()}\n",
    "embeddings1 = {k: nlp(\"\\n\\n\".join([post for post in v])).vector for k, v in data1.i1tems()}"
   ]
  },
  {
   "cell_type": "code",
   "execution_count": null,
   "metadata": {},
   "outputs": [],
   "source": [
    "print(f\"{len(data['cfact'])} {len(embeddings['cfact'])}\")"
   ]
  },
  {
   "cell_type": "markdown",
   "metadata": {},
   "source": [
    "## Tokenize and remove stop words"
   ]
  },
  {
   "cell_type": "code",
   "execution_count": null,
   "metadata": {},
   "outputs": [],
   "source": [
    "# tokenized = {k: [token for post in v for token in nlp(post) if not token.is_stop] for k, v in data.items()}"
   ]
  },
  {
   "cell_type": "code",
   "execution_count": null,
   "metadata": {},
   "outputs": [],
   "source": [
    "# tokenized['cfact'][0].lemma_"
   ]
  },
  {
   "cell_type": "markdown",
   "metadata": {},
   "source": [
    "## Prepare data labels"
   ]
  },
  {
   "cell_type": "code",
   "execution_count": null,
   "metadata": {},
   "outputs": [],
   "source": [
    "pos= ['greenpeace.international', 'NASAClimateChange', 'bloomberggreen', 'acespace', 'ClimateChangeIsReal',\n",
    "      'climatereality', 'ClimateChangeNews', 'NatureClimateChange', 'ClimateChangeCauses', 'GlobalwarmingEva',\n",
    "      'MostlyScience', 'EnvironmentandClimateChange', 'TheLeapOrg', 'NatureClimateChange', 'campaigncc',\n",
    "      'climatedefenseproject', 'ClimateParents', ]\n",
    "\n",
    "neg = ['ClimateChangeLies', 'cfact', 'iloveco2', 'SkepticalScience', 'ccdispatch', 'ClimateDepot', 'LordMonckton',\n",
    "       '']\n",
    "\n",
    "not_clima = ['fdrlst', 'JonahJGoldberg']"
   ]
  },
  {
   "cell_type": "code",
   "execution_count": null,
   "metadata": {},
   "outputs": [],
   "source": [
    "for i in not_clima:\n",
    "    if i in data1:\n",
    "        print(i)"
   ]
  },
  {
   "cell_type": "code",
   "execution_count": null,
   "metadata": {},
   "outputs": [],
   "source": [
    "for k in data.keys():\n",
    "    if k in pos or k in neg or k in not_clima:\n",
    "        print(k)"
   ]
  },
  {
   "cell_type": "code",
   "execution_count": null,
   "metadata": {},
   "outputs": [],
   "source": [
    "sorted(data.keys())"
   ]
  },
  {
   "cell_type": "code",
   "execution_count": null,
   "metadata": {},
   "outputs": [],
   "source": [
    "sorted(data1.keys())"
   ]
  },
  {
   "cell_type": "markdown",
   "metadata": {},
   "source": [
    "## Split the data train/test "
   ]
  },
  {
   "cell_type": "code",
   "execution_count": null,
   "metadata": {},
   "outputs": [],
   "source": []
  },
  {
   "cell_type": "markdown",
   "metadata": {},
   "source": [
    "## Classification"
   ]
  },
  {
   "cell_type": "code",
   "execution_count": null,
   "metadata": {},
   "outputs": [],
   "source": [
    "from sklearn.ensemble import RandomForestClassifier\n",
    "import numpy as np"
   ]
  },
  {
   "cell_type": "code",
   "execution_count": null,
   "metadata": {},
   "outputs": [],
   "source": [
    "xy_clima_related = [(k, v, int(k in pos or k in neg)) for k, v in embeddings.items() if k in pos or k in neg or k in not_clima]\n",
    "\n",
    "xy_clima_sentiment = [(k, v, int(k in pos)) for k, v in embeddings.items() if k in pos or k in neg]"
   ]
  },
  {
   "cell_type": "code",
   "execution_count": null,
   "metadata": {},
   "outputs": [],
   "source": [
    "len(xy_clima)"
   ]
  },
  {
   "cell_type": "code",
   "execution_count": null,
   "metadata": {},
   "outputs": [],
   "source": [
    "xy_clima_sentiment"
   ]
  },
  {
   "cell_type": "code",
   "execution_count": null,
   "metadata": {},
   "outputs": [],
   "source": [
    "x_train, y_train = [], []\n",
    "for d in xy_clima_sentiment:\n",
    "    x_train.append(d[1])\n",
    "    y_train.append(d[2])\n",
    "    \n",
    "x_train = np.asarray(x_train)\n",
    "y_train = np.asarray(y_train)"
   ]
  },
  {
   "cell_type": "code",
   "execution_count": null,
   "metadata": {},
   "outputs": [],
   "source": [
    "y_train"
   ]
  }
 ],
 "metadata": {
  "kernelspec": {
   "display_name": "Python 3.10.7 64-bit ('3.10')",
   "language": "python",
   "name": "python3"
  },
  "language_info": {
   "codemirror_mode": {
    "name": "ipython",
    "version": 3
   },
   "file_extension": ".py",
   "mimetype": "text/x-python",
   "name": "python",
   "nbconvert_exporter": "python",
   "pygments_lexer": "ipython3",
   "version": "3.10.7"
  },
  "vscode": {
   "interpreter": {
    "hash": "a6ba71ed456c7c7da9b4490b91c05d67ec06230d66828af52192873c8e577ebd"
   }
  }
 },
 "nbformat": 4,
 "nbformat_minor": 2
}
