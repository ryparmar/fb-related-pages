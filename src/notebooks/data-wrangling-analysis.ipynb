{
 "cells": [
  {
   "cell_type": "markdown",
   "metadata": {},
   "source": [
    "### TODO\n",
    "\n",
    "Kolikrát byla bublina prolomena od vstupní stránky, kolikrát od první úrovně? \\\n",
    "Které stránky prolomily bublinu?\n",
    "\n"
   ]
  },
  {
   "cell_type": "markdown",
   "metadata": {},
   "source": [
    "# Final Analysis\n",
    "\n",
    "1. Analyze the pages w.r.t. to the initial page classification\n",
    "2. Analyze the pages w.r.t. manually labeled data\n",
    "3. Create various views on the data (bubble breaking, etc.)\n",
    "4. Merge with data from Josef"
   ]
  },
  {
   "cell_type": "code",
   "execution_count": 1,
   "metadata": {},
   "outputs": [
    {
     "name": "stderr",
     "output_type": "stream",
     "text": [
      "In /home/spaceape/anaconda3/envs/graphs/lib/python3.7/site-packages/matplotlib/mpl-data/stylelib/_classic_test.mplstyle: \n",
      "The savefig.frameon rcparam was deprecated in Matplotlib 3.1 and will be removed in 3.3.\n",
      "In /home/spaceape/anaconda3/envs/graphs/lib/python3.7/site-packages/matplotlib/mpl-data/stylelib/_classic_test.mplstyle: \n",
      "The verbose.level rcparam was deprecated in Matplotlib 3.1 and will be removed in 3.3.\n",
      "In /home/spaceape/anaconda3/envs/graphs/lib/python3.7/site-packages/matplotlib/mpl-data/stylelib/_classic_test.mplstyle: \n",
      "The verbose.fileo rcparam was deprecated in Matplotlib 3.1 and will be removed in 3.3.\n"
     ]
    }
   ],
   "source": [
    "import pandas as pd\n",
    "import numpy as np\n",
    "import csv\n",
    "import json\n",
    "from collections import Counter\n",
    "\n",
    "from sklearn.metrics import confusion_matrix, ConfusionMatrixDisplay\n",
    "import seaborn as sns\n",
    "import matplotlib.pyplot as plt\n",
    "%matplotlib inline "
   ]
  },
  {
   "cell_type": "code",
   "execution_count": 2,
   "metadata": {},
   "outputs": [],
   "source": [
    "# Load initial pages with 1st related\n",
    "df1 = pd.read_csv('../data/data1.csv',\n",
    "                 sep=';',\n",
    "                 header=None)\n",
    "df1.fillna('', inplace=True)\n",
    "df1 = df1.applymap(lambda x: x.strip())"
   ]
  },
  {
   "cell_type": "code",
   "execution_count": 3,
   "metadata": {},
   "outputs": [
    {
     "data": {
      "text/html": [
       "<div>\n",
       "<style scoped>\n",
       "    .dataframe tbody tr th:only-of-type {\n",
       "        vertical-align: middle;\n",
       "    }\n",
       "\n",
       "    .dataframe tbody tr th {\n",
       "        vertical-align: top;\n",
       "    }\n",
       "\n",
       "    .dataframe thead th {\n",
       "        text-align: right;\n",
       "    }\n",
       "</style>\n",
       "<table border=\"1\" class=\"dataframe\">\n",
       "  <thead>\n",
       "    <tr style=\"text-align: right;\">\n",
       "      <th></th>\n",
       "      <th>0</th>\n",
       "      <th>1</th>\n",
       "      <th>2</th>\n",
       "      <th>3</th>\n",
       "      <th>4</th>\n",
       "      <th>5</th>\n",
       "      <th>6</th>\n",
       "      <th>7</th>\n",
       "      <th>8</th>\n",
       "      <th>9</th>\n",
       "      <th>10</th>\n",
       "      <th>11</th>\n",
       "      <th>12</th>\n",
       "      <th>13</th>\n",
       "      <th>14</th>\n",
       "      <th>15</th>\n",
       "      <th>16</th>\n",
       "      <th>17</th>\n",
       "      <th>18</th>\n",
       "    </tr>\n",
       "  </thead>\n",
       "  <tbody>\n",
       "    <tr>\n",
       "      <td>0</td>\n",
       "      <td>cfact</td>\n",
       "      <td>HeartlandInstitute</td>\n",
       "      <td>MattKibbe</td>\n",
       "      <td>wattsupwiththat-133662869999306</td>\n",
       "      <td>Energy.Citizens</td>\n",
       "      <td>Reason.Magazine</td>\n",
       "      <td>justrealfacts</td>\n",
       "      <td>FoSClimateEd</td>\n",
       "      <td>The-Galileo-Movement-101728306584541</td>\n",
       "      <td>DavidAustinFrench</td>\n",
       "      <td>MercatorNet</td>\n",
       "      <td>CFACTCampus</td>\n",
       "      <td>marklevinshow</td>\n",
       "      <td>isthereglobalcooling</td>\n",
       "      <td>TheNewAmerican</td>\n",
       "      <td>hatingbreitbart</td>\n",
       "      <td>AmericanThinker</td>\n",
       "      <td>humaneventsmedia</td>\n",
       "      <td>IMConservative</td>\n",
       "    </tr>\n",
       "    <tr>\n",
       "      <td>1</td>\n",
       "      <td>iloveco2</td>\n",
       "      <td>inconvenientfacts.xyz</td>\n",
       "      <td>theGWPF</td>\n",
       "      <td>The-Galileo-Movement-101728306584541</td>\n",
       "      <td>thegrandsolarmini</td>\n",
       "      <td>wattsupwiththat-133662869999306</td>\n",
       "      <td>wwpagws</td>\n",
       "      <td>GunCultureWorld</td>\n",
       "      <td>ClimateHomeNews</td>\n",
       "      <td>LordMonckton</td>\n",
       "      <td>TheGeneralConsensus</td>\n",
       "      <td>iHeartClimateScientists</td>\n",
       "      <td>Armstrongecon</td>\n",
       "      <td>thepursuitofenergy</td>\n",
       "      <td>FoSClimateEd</td>\n",
       "      <td>TheLastAmericanVagabond</td>\n",
       "      <td>Michael-Roberts-blog-925340197491022</td>\n",
       "      <td>TheNewAmerican</td>\n",
       "      <td>R2ANM</td>\n",
       "    </tr>\n",
       "    <tr>\n",
       "      <td>2</td>\n",
       "      <td>ClimateChangeLIES</td>\n",
       "      <td>IPCC</td>\n",
       "      <td>wattsupwiththat-133662869999306</td>\n",
       "      <td>pubint</td>\n",
       "      <td>The-Galileo-Movement-101728306584541</td>\n",
       "      <td>extremweatherworldd</td>\n",
       "      <td>FoSClimateEd</td>\n",
       "      <td>AboveClimateChange</td>\n",
       "      <td>LordMonckton</td>\n",
       "      <td>EconomicUpdate</td>\n",
       "      <td>theGWPF</td>\n",
       "      <td>SkepticalScience</td>\n",
       "      <td>inconvenientfacts.xyz</td>\n",
       "      <td>DeSmogBlog</td>\n",
       "      <td>flatearthnewsreports</td>\n",
       "      <td>Vaccine-Facts-2220944541515484</td>\n",
       "      <td>FluorideActionNetwork</td>\n",
       "      <td>hangthebankers</td>\n",
       "      <td>RichardDWolff</td>\n",
       "    </tr>\n",
       "  </tbody>\n",
       "</table>\n",
       "</div>"
      ],
      "text/plain": [
       "                  0                      1                                2   \\\n",
       "0              cfact     HeartlandInstitute                        MattKibbe   \n",
       "1           iloveco2  inconvenientfacts.xyz                          theGWPF   \n",
       "2  ClimateChangeLIES                   IPCC  wattsupwiththat-133662869999306   \n",
       "\n",
       "                                     3                                     4   \\\n",
       "0       wattsupwiththat-133662869999306                       Energy.Citizens   \n",
       "1  The-Galileo-Movement-101728306584541                     thegrandsolarmini   \n",
       "2                                pubint  The-Galileo-Movement-101728306584541   \n",
       "\n",
       "                                5              6                   7   \\\n",
       "0                  Reason.Magazine  justrealfacts        FoSClimateEd   \n",
       "1  wattsupwiththat-133662869999306        wwpagws     GunCultureWorld   \n",
       "2              extremweatherworldd   FoSClimateEd  AboveClimateChange   \n",
       "\n",
       "                                     8                  9   \\\n",
       "0  The-Galileo-Movement-101728306584541  DavidAustinFrench   \n",
       "1                       ClimateHomeNews       LordMonckton   \n",
       "2                          LordMonckton     EconomicUpdate   \n",
       "\n",
       "                    10                       11                     12  \\\n",
       "0          MercatorNet              CFACTCampus          marklevinshow   \n",
       "1  TheGeneralConsensus  iHeartClimateScientists          Armstrongecon   \n",
       "2              theGWPF         SkepticalScience  inconvenientfacts.xyz   \n",
       "\n",
       "                     13                    14                              15  \\\n",
       "0  isthereglobalcooling        TheNewAmerican                 hatingbreitbart   \n",
       "1    thepursuitofenergy          FoSClimateEd         TheLastAmericanVagabond   \n",
       "2            DeSmogBlog  flatearthnewsreports  Vaccine-Facts-2220944541515484   \n",
       "\n",
       "                                     16                17              18  \n",
       "0                       AmericanThinker  humaneventsmedia  IMConservative  \n",
       "1  Michael-Roberts-blog-925340197491022    TheNewAmerican           R2ANM  \n",
       "2                 FluorideActionNetwork    hangthebankers   RichardDWolff  "
      ]
     },
     "execution_count": 3,
     "metadata": {},
     "output_type": "execute_result"
    }
   ],
   "source": [
    "df1.head(3)"
   ]
  },
  {
   "cell_type": "code",
   "execution_count": 4,
   "metadata": {},
   "outputs": [],
   "source": [
    "# Load 1st related wih 2nd related\n",
    "df2 = pd.read_csv('../data/data2-uniq.csv',\n",
    "                 sep=';',\n",
    "                 header=None)\n",
    "df2.fillna('', inplace=True)\n",
    "df2 = df2.applymap(lambda x: x.strip())"
   ]
  },
  {
   "cell_type": "code",
   "execution_count": 5,
   "metadata": {},
   "outputs": [
    {
     "data": {
      "text/html": [
       "<div>\n",
       "<style scoped>\n",
       "    .dataframe tbody tr th:only-of-type {\n",
       "        vertical-align: middle;\n",
       "    }\n",
       "\n",
       "    .dataframe tbody tr th {\n",
       "        vertical-align: top;\n",
       "    }\n",
       "\n",
       "    .dataframe thead th {\n",
       "        text-align: right;\n",
       "    }\n",
       "</style>\n",
       "<table border=\"1\" class=\"dataframe\">\n",
       "  <thead>\n",
       "    <tr style=\"text-align: right;\">\n",
       "      <th></th>\n",
       "      <th>0</th>\n",
       "      <th>1</th>\n",
       "      <th>2</th>\n",
       "      <th>3</th>\n",
       "      <th>4</th>\n",
       "      <th>5</th>\n",
       "      <th>6</th>\n",
       "      <th>7</th>\n",
       "      <th>8</th>\n",
       "      <th>9</th>\n",
       "      <th>10</th>\n",
       "      <th>11</th>\n",
       "      <th>12</th>\n",
       "      <th>13</th>\n",
       "      <th>14</th>\n",
       "      <th>15</th>\n",
       "      <th>16</th>\n",
       "      <th>17</th>\n",
       "      <th>18</th>\n",
       "    </tr>\n",
       "  </thead>\n",
       "  <tbody>\n",
       "    <tr>\n",
       "      <td>0</td>\n",
       "      <td>350.org</td>\n",
       "      <td>ExtinctionRebellion</td>\n",
       "      <td>WWF</td>\n",
       "      <td>CitizensClimateLobby</td>\n",
       "      <td>unionofconcernedscientists</td>\n",
       "      <td>greenpeaceusa</td>\n",
       "      <td>climatepower2020</td>\n",
       "      <td>EcoWatch</td>\n",
       "      <td>grist.org</td>\n",
       "      <td>nrdc.org</td>\n",
       "      <td>iucn.org</td>\n",
       "      <td>EnvDefenseFund</td>\n",
       "      <td>Earthjustice</td>\n",
       "      <td>Climate-Awareness-Network-325073881246240</td>\n",
       "      <td>auroraborealisobservatory</td>\n",
       "      <td>dontdrill</td>\n",
       "      <td>callforclimate</td>\n",
       "      <td>republicen</td>\n",
       "      <td>WorldWarZeroOrg</td>\n",
       "    </tr>\n",
       "    <tr>\n",
       "      <td>1</td>\n",
       "      <td>AboveClimateChange</td>\n",
       "      <td></td>\n",
       "      <td></td>\n",
       "      <td></td>\n",
       "      <td></td>\n",
       "      <td></td>\n",
       "      <td></td>\n",
       "      <td></td>\n",
       "      <td></td>\n",
       "      <td></td>\n",
       "      <td></td>\n",
       "      <td></td>\n",
       "      <td></td>\n",
       "      <td></td>\n",
       "      <td></td>\n",
       "      <td></td>\n",
       "      <td></td>\n",
       "      <td></td>\n",
       "      <td></td>\n",
       "    </tr>\n",
       "    <tr>\n",
       "      <td>2</td>\n",
       "      <td>AdventuresOfDanAndTina</td>\n",
       "      <td>messagesfrombeyondtheveil</td>\n",
       "      <td>thehealingjourneyfromdomesticabuse</td>\n",
       "      <td>S.S.PhoenixAsh</td>\n",
       "      <td>Legit-Talk-101706304661623</td>\n",
       "      <td>EmilyCSchulz</td>\n",
       "      <td>AndStillIRiseCounseling</td>\n",
       "      <td>Worldofourownreality</td>\n",
       "      <td>HEALINGFROMTOXICRELATIONSHIPS</td>\n",
       "      <td>AlzDefenseFund</td>\n",
       "      <td>PeopleOfBeauty2020</td>\n",
       "      <td>strategicglobalcommissioning</td>\n",
       "      <td>narcissistmeets</td>\n",
       "      <td>ArtbyNory-104274707603330</td>\n",
       "      <td>ChelleO70</td>\n",
       "      <td>unitymattersnow</td>\n",
       "      <td>psychologyandhumanbehaviors</td>\n",
       "      <td>WysestMynInTheWyrld</td>\n",
       "      <td>Mental-Health-Mechanic-106474201043830</td>\n",
       "    </tr>\n",
       "  </tbody>\n",
       "</table>\n",
       "</div>"
      ],
      "text/plain": [
       "                       0                          1   \\\n",
       "0                 350.org        ExtinctionRebellion   \n",
       "1      AboveClimateChange                              \n",
       "2  AdventuresOfDanAndTina  messagesfrombeyondtheveil   \n",
       "\n",
       "                                   2                     3   \\\n",
       "0                                 WWF  CitizensClimateLobby   \n",
       "1                                                             \n",
       "2  thehealingjourneyfromdomesticabuse        S.S.PhoenixAsh   \n",
       "\n",
       "                           4              5                        6   \\\n",
       "0  unionofconcernedscientists  greenpeaceusa         climatepower2020   \n",
       "1                                                                       \n",
       "2  Legit-Talk-101706304661623   EmilyCSchulz  AndStillIRiseCounseling   \n",
       "\n",
       "                     7                              8               9   \\\n",
       "0              EcoWatch                      grist.org        nrdc.org   \n",
       "1                                                                        \n",
       "2  Worldofourownreality  HEALINGFROMTOXICRELATIONSHIPS  AlzDefenseFund   \n",
       "\n",
       "                   10                            11               12  \\\n",
       "0            iucn.org                EnvDefenseFund     Earthjustice   \n",
       "1                                                                      \n",
       "2  PeopleOfBeauty2020  strategicglobalcommissioning  narcissistmeets   \n",
       "\n",
       "                                          13                         14  \\\n",
       "0  Climate-Awareness-Network-325073881246240  auroraborealisobservatory   \n",
       "1                                                                         \n",
       "2                  ArtbyNory-104274707603330                  ChelleO70   \n",
       "\n",
       "                15                           16                   17  \\\n",
       "0        dontdrill               callforclimate           republicen   \n",
       "1                                                                      \n",
       "2  unitymattersnow  psychologyandhumanbehaviors  WysestMynInTheWyrld   \n",
       "\n",
       "                                       18  \n",
       "0                         WorldWarZeroOrg  \n",
       "1                                          \n",
       "2  Mental-Health-Mechanic-106474201043830  "
      ]
     },
     "execution_count": 5,
     "metadata": {},
     "output_type": "execute_result"
    }
   ],
   "source": [
    "df2.head(3)"
   ]
  },
  {
   "cell_type": "markdown",
   "metadata": {},
   "source": [
    "## 1. Analyze the pages w.r.t. to the initial page classification"
   ]
  },
  {
   "cell_type": "markdown",
   "metadata": {},
   "source": [
    "### Split the data"
   ]
  },
  {
   "cell_type": "code",
   "execution_count": 6,
   "metadata": {},
   "outputs": [],
   "source": [
    "initial = list(df1[0])\n",
    "related1 = list(set([r for i, row in df1.iterrows() \n",
    "                     for r in row if r and row[0] in initial]))\n",
    "uniq_related1 = list(set([r for i, row in df1.iterrows() \n",
    "                     for r in row if r and r not in initial and row[0] in initial]))\n",
    "\n",
    "related2 = list(set([r for i, row in df2.iterrows() \n",
    "                     for r in row if r and row[0] in related1]))\n",
    "uniq_related2 = list(set([r for i, row in df2.iterrows() \n",
    "                     for r in row if r and r not in initial and r not in related1 and row[0] in related1]))"
   ]
  },
  {
   "cell_type": "code",
   "execution_count": 7,
   "metadata": {},
   "outputs": [
    {
     "name": "stdout",
     "output_type": "stream",
     "text": [
      "Initial # of pages:\t18\n",
      "1st related unique (not containing initial):\t250\n",
      "2nd related unique (not containing initial and 1st related):\t3038\n",
      "1st related:\t268\n",
      "2nd related:\t3288\n"
     ]
    }
   ],
   "source": [
    "print(f\"Initial # of pages:\\t{len(initial)}\\n1st related unique (not containing initial):\\t{len(uniq_related1)}\")\n",
    "print(f\"2nd related unique (not containing initial and 1st related):\\t{len(uniq_related2)}\")\n",
    "print(f\"1st related:\\t{len(related1)}\\n2nd related:\\t{len(related2)}\")"
   ]
  },
  {
   "cell_type": "markdown",
   "metadata": {},
   "source": [
    "### Split by pos/neg acc to initial page"
   ]
  },
  {
   "cell_type": "code",
   "execution_count": 8,
   "metadata": {},
   "outputs": [],
   "source": [
    "tmp = pd.read_csv('../data/init-page-label.csv', header=None, sep=';')"
   ]
  },
  {
   "cell_type": "code",
   "execution_count": 9,
   "metadata": {},
   "outputs": [],
   "source": [
    "init_pos = list(tmp[tmp[1] == 'poz'][0])\n",
    "init_neg = list(tmp[tmp[1] == 'neg'][0])"
   ]
  },
  {
   "cell_type": "code",
   "execution_count": 10,
   "metadata": {},
   "outputs": [
    {
     "name": "stdout",
     "output_type": "stream",
     "text": [
      "initial positive: 9\n",
      "initial negative: 9\n"
     ]
    }
   ],
   "source": [
    "print(f\"initial positive: {len(init_pos)}\\ninitial negative: {len(init_neg)}\")"
   ]
  },
  {
   "cell_type": "code",
   "execution_count": 11,
   "metadata": {},
   "outputs": [],
   "source": [
    "def append_all(src, trg):\n",
    "    for i in src[1:]:\n",
    "        if i.strip():\n",
    "            trg.append(i.strip())\n",
    "\n",
    "def split_by_label(d, pos, neg, uniq=True):\n",
    "    ret_pos, ret_neg = [], []\n",
    "    for i, row in d.iterrows():\n",
    "        init_page = row[0].strip()\n",
    "        if init_page in pos:\n",
    "            append_all(row, ret_pos)\n",
    "        if init_page in neg:\n",
    "            append_all(row, ret_neg)\n",
    "    return list(set(ret_pos)), list(set(ret_neg))\n",
    "\n",
    "def intersection(lst1, lst2): \n",
    "    return list(set(lst1) & set(lst2))\n",
    "\n",
    "def strip_link(x):\n",
    "    if  '/' in x:\n",
    "        return x.split('/')[-1]\n",
    "    else:\n",
    "        return x"
   ]
  },
  {
   "cell_type": "code",
   "execution_count": 12,
   "metadata": {},
   "outputs": [],
   "source": [
    "pos1, neg1 = split_by_label(df1, init_pos, init_neg)\n",
    "both1 = intersection(set(pos1), set(neg1))\n",
    "pos_all = init_pos + pos1\n",
    "neg_all = init_neg + neg1"
   ]
  },
  {
   "cell_type": "code",
   "execution_count": 13,
   "metadata": {},
   "outputs": [
    {
     "name": "stdout",
     "output_type": "stream",
     "text": [
      "First level: initial-related\n",
      "positive pages:\t140\n",
      "negative pages:\t114\n",
      "present in pos and neg:\t4\n",
      "TOTAL uniq: 250\n"
     ]
    }
   ],
   "source": [
    "print(\"First level: initial-related\")\n",
    "print(f\"positive pages:\\t{len(pos1)}\\nnegative pages:\\t{len(neg1)}\\npresent in pos and neg:\\t{len(both1)}\")\n",
    "print(f\"TOTAL uniq: {len(pos1) + len(neg1) - len(both1)}\")\n",
    "# negativnich je mene - tzn. ze se tam vice opakovaly stejne stranky / resp. z init stranek se casteji\n",
    "# odkazovalo do stenych stranek (mensiho setu stranek)"
   ]
  },
  {
   "cell_type": "code",
   "execution_count": 14,
   "metadata": {},
   "outputs": [],
   "source": [
    "pos2, neg2 = split_by_label(df2, pos_all, neg_all)\n",
    "both2 = intersection(set(pos2), set(neg2))\n",
    "pos_all += pos2\n",
    "neg_all += neg2\n",
    "pos_all = list(set(pos_all))\n",
    "neg_all = list(set(neg_all))\n",
    "both_all = both1 + both2"
   ]
  },
  {
   "cell_type": "code",
   "execution_count": 15,
   "metadata": {},
   "outputs": [
    {
     "name": "stdout",
     "output_type": "stream",
     "text": [
      "Second level: related-2ndrelated\n",
      "positive pages:\t1671\n",
      "negative pages:\t1618\n",
      "present in pos and neg:\t123\n",
      "TOTAL uniq: 3166\n"
     ]
    }
   ],
   "source": [
    "print(\"Second level: related-2ndrelated\")\n",
    "print(f\"positive pages:\\t{len(pos2)}\\nnegative pages:\\t{len(neg2)}\\npresent in pos and neg:\\t{len(both2)}\")\n",
    "print(f\"TOTAL uniq: {len(pos2) + len(neg2) - len(both2)}\")"
   ]
  },
  {
   "cell_type": "code",
   "execution_count": 16,
   "metadata": {},
   "outputs": [
    {
     "name": "stdout",
     "output_type": "stream",
     "text": [
      "positive total: 1740\n",
      "negative total: 1693\n",
      "both total: 127\n"
     ]
    }
   ],
   "source": [
    "print(f\"positive total: {len(pos_all)}\\nnegative total: {len(neg_all)}\\nboth total: {len(both_all)}\")"
   ]
  },
  {
   "cell_type": "code",
   "execution_count": 17,
   "metadata": {},
   "outputs": [
    {
     "data": {
      "text/plain": [
       "[]"
      ]
     },
     "execution_count": 17,
     "metadata": {},
     "output_type": "execute_result"
    }
   ],
   "source": [
    "[i for i in uniq_related2 if i not in pos_all+neg_all]"
   ]
  },
  {
   "cell_type": "markdown",
   "metadata": {},
   "source": [
    "## 2. Analyze the pages w.r.t. manually labeled data"
   ]
  },
  {
   "cell_type": "markdown",
   "metadata": {},
   "source": [
    "### Read manually labeled"
   ]
  },
  {
   "cell_type": "code",
   "execution_count": 18,
   "metadata": {},
   "outputs": [],
   "source": [
    "# Load initial pages with 1st related\n",
    "df_label = pd.read_csv('../data/labeled.csv', sep=',')\n",
    "df_label.fillna('', inplace=True)\n",
    "df_label.Page = df_label.Page.apply(strip_link)\n",
    "df_label.drop_duplicates(subset=['Page'], inplace=True)\n",
    "df_label = df_label[(df_label.Label == 'poz') | (df_label.Label == 'neg')]"
   ]
  },
  {
   "cell_type": "code",
   "execution_count": 19,
   "metadata": {},
   "outputs": [
    {
     "data": {
      "text/html": [
       "<div>\n",
       "<style scoped>\n",
       "    .dataframe tbody tr th:only-of-type {\n",
       "        vertical-align: middle;\n",
       "    }\n",
       "\n",
       "    .dataframe tbody tr th {\n",
       "        vertical-align: top;\n",
       "    }\n",
       "\n",
       "    .dataframe thead th {\n",
       "        text-align: right;\n",
       "    }\n",
       "</style>\n",
       "<table border=\"1\" class=\"dataframe\">\n",
       "  <thead>\n",
       "    <tr style=\"text-align: right;\">\n",
       "      <th></th>\n",
       "      <th>Page</th>\n",
       "      <th>Label</th>\n",
       "    </tr>\n",
       "  </thead>\n",
       "  <tbody>\n",
       "    <tr>\n",
       "      <td>2</td>\n",
       "      <td>Climate-ChangeGlobal-Warming-324905208198057</td>\n",
       "      <td>poz</td>\n",
       "    </tr>\n",
       "    <tr>\n",
       "      <td>3</td>\n",
       "      <td>Disinformation-Directory-258624097663749</td>\n",
       "      <td>poz</td>\n",
       "    </tr>\n",
       "    <tr>\n",
       "      <td>4</td>\n",
       "      <td>Global-Warming-and-Climate-Change-469635253148107</td>\n",
       "      <td>poz</td>\n",
       "    </tr>\n",
       "    <tr>\n",
       "      <td>5</td>\n",
       "      <td>Greta-Thunberg-Memes-100304111377683</td>\n",
       "      <td>poz</td>\n",
       "    </tr>\n",
       "    <tr>\n",
       "      <td>7</td>\n",
       "      <td>AustraliaForward</td>\n",
       "      <td>poz</td>\n",
       "    </tr>\n",
       "  </tbody>\n",
       "</table>\n",
       "</div>"
      ],
      "text/plain": [
       "                                                Page Label\n",
       "2       Climate-ChangeGlobal-Warming-324905208198057   poz\n",
       "3           Disinformation-Directory-258624097663749   poz\n",
       "4  Global-Warming-and-Climate-Change-469635253148107   poz\n",
       "5               Greta-Thunberg-Memes-100304111377683   poz\n",
       "7                                   AustraliaForward   poz"
      ]
     },
     "execution_count": 19,
     "metadata": {},
     "output_type": "execute_result"
    }
   ],
   "source": [
    "df_label.head(5)"
   ]
  },
  {
   "cell_type": "code",
   "execution_count": 20,
   "metadata": {},
   "outputs": [],
   "source": [
    "label_pos = list(set(df_label.Page[df_label.Label == 'poz']))\n",
    "label_neg = list(set(df_label.Page[df_label.Label == 'neg']))"
   ]
  },
  {
   "cell_type": "code",
   "execution_count": 21,
   "metadata": {},
   "outputs": [],
   "source": [
    "label_pos_wo_init = [i for i in label_pos if i not in initial]\n",
    "label_neg_wo_init = [i for i in label_neg if i not in initial]"
   ]
  },
  {
   "cell_type": "code",
   "execution_count": 22,
   "metadata": {},
   "outputs": [
    {
     "name": "stdout",
     "output_type": "stream",
     "text": [
      "positive: 260\n",
      "negative: 41\n",
      "positive wo init: 251\n",
      "negative wo init: 32\n"
     ]
    }
   ],
   "source": [
    "print(f\"positive: {len(label_pos)}\\nnegative: {len(label_neg)}\")\n",
    "print(f\"positive wo init: {len(label_pos_wo_init)}\\nnegative wo init: {len(label_neg_wo_init)}\")"
   ]
  },
  {
   "cell_type": "markdown",
   "metadata": {},
   "source": [
    "### Check the data consistency (all the manually anotated data should be present in the original relational data)\n",
    "Puvodne 10 pos a 9 neg init stranek - data scraped etc for those 19\n",
    "Ted pracuji jen s 18 (9 a 9) strankami, takze nektere stranky tam mohly penetrovat skupina, ktera byla rucne anotovana. A mely by byt spravne smazany = cnbcinternational"
   ]
  },
  {
   "cell_type": "code",
   "execution_count": 23,
   "metadata": {},
   "outputs": [
    {
     "data": {
      "text/plain": [
       "[]"
      ]
     },
     "execution_count": 23,
     "metadata": {},
     "output_type": "execute_result"
    }
   ],
   "source": [
    "[i for i in label_pos if i not in (pos_all+neg_all)]"
   ]
  },
  {
   "cell_type": "code",
   "execution_count": 24,
   "metadata": {},
   "outputs": [
    {
     "data": {
      "text/plain": [
       "['cnbcinternational']"
      ]
     },
     "execution_count": 24,
     "metadata": {},
     "output_type": "execute_result"
    }
   ],
   "source": [
    "# Bylo soucasti related pages k bloomberg strankam (ty jsem odstranoval aby bylo 9 pos a 9 neg stranek)\n",
    "# jde ale o zpravodajskou stranku (antiklima spise)\n",
    "[i for i in label_neg if i not in (pos_all+neg_all)]"
   ]
  },
  {
   "cell_type": "code",
   "execution_count": null,
   "metadata": {},
   "outputs": [],
   "source": []
  },
  {
   "cell_type": "code",
   "execution_count": 25,
   "metadata": {},
   "outputs": [],
   "source": [
    "pos_org = pos_all\n",
    "neg_org = neg_all\n",
    "\n",
    "label_neg.remove('cnbcinternational')"
   ]
  },
  {
   "cell_type": "code",
   "execution_count": 26,
   "metadata": {},
   "outputs": [
    {
     "name": "stdout",
     "output_type": "stream",
     "text": [
      "positive: 260\n",
      "negative: 40\n",
      "positive wo init: 251\n",
      "negative wo init: 32\n"
     ]
    }
   ],
   "source": [
    "print(f\"positive: {len(label_pos)}\\nnegative: {len(label_neg)}\")\n",
    "print(f\"positive wo init: {len(label_pos_wo_init)}\\nnegative wo init: {len(label_neg_wo_init)}\")"
   ]
  },
  {
   "cell_type": "markdown",
   "metadata": {},
   "source": [
    "### Manual label vs. related label (w.r.t. to init page)"
   ]
  },
  {
   "cell_type": "code",
   "execution_count": 27,
   "metadata": {},
   "outputs": [],
   "source": [
    "pos2pos = [i for i in label_pos if i in pos_all]\n",
    "pos2neg = [i for i in label_pos if i in neg_all]\n",
    "neg2pos = [i for i in label_neg if i in pos_all]\n",
    "neg2neg = [i for i in label_neg if i in neg_all]"
   ]
  },
  {
   "cell_type": "code",
   "execution_count": 28,
   "metadata": {},
   "outputs": [
    {
     "name": "stdout",
     "output_type": "stream",
     "text": [
      "Original2Labeled relation to clima crisis\n",
      "pos2pos: 224\n",
      "pos2neg:84\n",
      "neg2pos: 9\n",
      "neg2neg:38\n",
      "0.375\n",
      "0.23684210526315788\n"
     ]
    }
   ],
   "source": [
    "print(f\"Original2Labeled relation to clima crisis\")\n",
    "print(f\"pos2pos: {len(pos2pos)}\\npos2neg:{len(pos2neg)}\")\n",
    "print(f\"neg2pos: {len(neg2pos)}\\nneg2neg:{len(neg2neg)}\")\n",
    "print(f\"{len(pos2neg)/len(pos2pos)}\")\n",
    "print(f\"{len(neg2pos)/len(neg2neg)}\")"
   ]
  },
  {
   "cell_type": "code",
   "execution_count": 29,
   "metadata": {},
   "outputs": [],
   "source": [
    "pos2pos = [i for i in label_pos if i in pos_all and i not in both_all]\n",
    "pos2neg = [i for i in label_pos if i in neg_all and i not in both_all]\n",
    "neg2pos = [i for i in label_neg if i in pos_all and i not in both_all]\n",
    "neg2neg = [i for i in label_neg if i in neg_all and i not in both_all]"
   ]
  },
  {
   "cell_type": "code",
   "execution_count": 30,
   "metadata": {},
   "outputs": [
    {
     "name": "stdout",
     "output_type": "stream",
     "text": [
      "Original2Labeled relation to clima crisis withou pages related to both pos and neg\n",
      "pos2pos: 178\n",
      "pos2neg:38\n",
      "neg2pos: 2\n",
      "neg2neg:31\n",
      "0.21348314606741572\n",
      "0.06451612903225806\n"
     ]
    }
   ],
   "source": [
    "print(f\"Original2Labeled relation to clima crisis withou pages related to both pos and neg\")\n",
    "print(f\"pos2pos: {len(pos2pos)}\\npos2neg:{len(pos2neg)}\")\n",
    "print(f\"neg2pos: {len(neg2pos)}\\nneg2neg:{len(neg2neg)}\")\n",
    "print(f\"{len(pos2neg)/len(pos2pos)}\")\n",
    "print(f\"{len(neg2pos)/len(neg2neg)}\")"
   ]
  },
  {
   "cell_type": "markdown",
   "metadata": {},
   "source": [
    "### Manual label vs. manual label (create a new relations files with non-clima pages filtered out)"
   ]
  },
  {
   "cell_type": "code",
   "execution_count": 31,
   "metadata": {},
   "outputs": [
    {
     "name": "stdout",
     "output_type": "stream",
     "text": [
      "total clima related pages: 319\n"
     ]
    }
   ],
   "source": [
    "clima_related = init_pos + init_neg + list(df_label.Page)\n",
    "print(f\"total clima related pages: {len(clima_related)}\")"
   ]
  },
  {
   "cell_type": "code",
   "execution_count": 32,
   "metadata": {},
   "outputs": [],
   "source": [
    "def generate_new_related_file(df, clima):\n",
    "    ret, ret_list = \"\", []\n",
    "    for idx, row in df.iterrows():\n",
    "        r = \"\"\n",
    "        for i, p in enumerate(row):\n",
    "            if i == 0:\n",
    "                if p in clima:\n",
    "                    r = r + str(p) + ';'\n",
    "                    ret_list.append(str(p))\n",
    "                else:  # if the source/parent page is not clima-related, then skip also its childs (related pages)\n",
    "                    break\n",
    "            elif p in clima:\n",
    "                r = r + str(p) + ';'\n",
    "                ret_list.append(str(p))\n",
    "        ret += r.rstrip(';') + '\\n' if r else ''\n",
    "    return ret, ret_list\n",
    "\n",
    "\n",
    "def get_label(page, labeled):\n",
    "    return labeled[labeled.Page == page.strip()].Label.values[0]"
   ]
  },
  {
   "cell_type": "code",
   "execution_count": 33,
   "metadata": {},
   "outputs": [],
   "source": [
    "# sorted(set(clima_related))"
   ]
  },
  {
   "cell_type": "code",
   "execution_count": 34,
   "metadata": {},
   "outputs": [],
   "source": [
    "str_df1, df1_clima_related = generate_new_related_file(df1, clima_related)\n",
    "str_df2, df2_clima_related = generate_new_related_file(df2, clima_related)"
   ]
  },
  {
   "cell_type": "markdown",
   "metadata": {},
   "source": [
    "### Pages labelled as clima-related but missing in the clima-related-relational data due to the fact, that the its source (parent) page was not labelled as clima-related"
   ]
  },
  {
   "cell_type": "code",
   "execution_count": 35,
   "metadata": {},
   "outputs": [
    {
     "name": "stdout",
     "output_type": "stream",
     "text": [
      "Disinformation-Directory-258624097663749\n",
      "AustraliaForward\n",
      "cfactcanada\n",
      "AdamBandtMP\n",
      "Climate-Change%E1%8B%A8%E1%8A%A0%E1%8B%A8%E1%88%AD-%E1%8A%95%E1%89%A5%E1%88%A8%E1%89%B5-%E1%88%88%E1%8B%8D%E1%8C%A5-1411444352488369\n",
      "ClimateChangeResearchCentre\n",
      "EverydayClimateChange\n",
      "GetUpAustralia\n",
      "GlobalEcoSocialistNetwork\n",
      "JeffMerkleyOregon\n",
      "SaveTheEarthReduceChildbirth\n",
      "SkyderALERT\n",
      "StopOverpopulation\n",
      "TEDEducation\n",
      "ThePolarInstitute\n",
      "americanpolarsociety\n",
      "curious.earth.hq\n",
      "environmentaldefendersoffice\n",
      "oxygenforfree\n",
      "storyofstuff\n",
      "wildaid\n"
     ]
    }
   ],
   "source": [
    "for i in clima_related:\n",
    "    if i not in set(df1_clima_related + df2_clima_related):\n",
    "        print(i)"
   ]
  },
  {
   "cell_type": "code",
   "execution_count": 36,
   "metadata": {},
   "outputs": [],
   "source": [
    "# SAVE FILES\n",
    "def normalize_separators(str_df):\n",
    "    normalized = \"\"\n",
    "    for line in str_df.split('\\n'):\n",
    "        if line:\n",
    "            separators_to_add = 20 - len(line.split(';'))\n",
    "            seps = separators_to_add * ';'\n",
    "#             if seps \n",
    "            normalized += f\"{line}{seps}\\n\"\n",
    "    return normalized\n",
    "\n",
    "with open('../data/clima-related-filtered/data-relation1.csv', 'w') as fw:\n",
    "    fw.write(normalize_separators(str_df1))\n",
    "    \n",
    "with open('../data/clima-related-filtered/data-relation2.csv', 'w') as fw:\n",
    "    fw.write(normalize_separators(str_df2))"
   ]
  },
  {
   "cell_type": "markdown",
   "metadata": {},
   "source": [
    "## 3. Create various views on the data (bubble breaking, etc.)"
   ]
  },
  {
   "cell_type": "markdown",
   "metadata": {},
   "source": [
    "### Create file with clima-related pages counts"
   ]
  },
  {
   "cell_type": "code",
   "execution_count": 37,
   "metadata": {},
   "outputs": [],
   "source": [
    "new_clima_related = df1_clima_related + df2_clima_related\n",
    "c = Counter(new_clima_related)"
   ]
  },
  {
   "cell_type": "code",
   "execution_count": 38,
   "metadata": {},
   "outputs": [],
   "source": [
    "# SAVE FILES\n",
    "# with open('data/clima-related-filtered/clima-related-counts.csv', 'w') as fw:\n",
    "#     fw.write(f\"page;label;counts-in-data-relation1+data-relation2\")\n",
    "#     for i in c.most_common():\n",
    "#         fw.write(f\"{str(i[0])};{get_label(str(i[0]), df_label)};{str(i[1])}\\n\")"
   ]
  },
  {
   "cell_type": "code",
   "execution_count": 39,
   "metadata": {},
   "outputs": [
    {
     "data": {
      "text/plain": [
       "[('LordMonckton', 17),\n",
       " ('FoSClimateEd', 14),\n",
       " ('SkepticalScience', 13),\n",
       " ('insideclimatenews', 13),\n",
       " ('ClimateHomeNews', 12),\n",
       " ('AboveClimateChange', 10),\n",
       " ('greenpeaceusa', 10),\n",
       " ('unep', 10),\n",
       " ('350.org', 9),\n",
       " ('wattsupwiththat-133662869999306', 8),\n",
       " ('iHeartClimateScientists', 8),\n",
       " ('climatepower2020', 8),\n",
       " ('EcoWatch', 8),\n",
       " ('theGWPF', 7),\n",
       " ('thepursuitofenergy', 7),\n",
       " ('ClimateUNESCO', 7),\n",
       " ('Earthjustice', 7),\n",
       " ('The-Galileo-Movement-101728306584541', 6),\n",
       " ('inconvenientfacts.xyz', 6),\n",
       " ('WorldMeteorologicalOrganization', 6),\n",
       " ('EnvDefenseFund', 6),\n",
       " ('GWandCC', 6),\n",
       " ('UNCarbonMechs', 6),\n",
       " ('GlobalWarmingTimes', 6),\n",
       " ('MichaelMannScientist', 6),\n",
       " ('isthereglobalcooling', 5),\n",
       " ('IPCC', 5),\n",
       " ('DeSmogBlog', 5),\n",
       " ('ClimateNews.ca', 5),\n",
       " ('conservation.intl', 5),\n",
       " ('CitizensClimateLobby', 5),\n",
       " ('youthvgov', 5),\n",
       " ('NPSClimateChange', 5),\n",
       " ('GWFOTD', 5),\n",
       " ('Climate-Change-and-Global-Warming-1996390693908922', 5),\n",
       " ('ClimateChange.SDG.KnowledgeHub.IISD', 5),\n",
       " ('Global-Warming-and-Climate-Change-469635253148107', 5),\n",
       " ('DailyClimate', 5),\n",
       " ('nrdc.org', 5),\n",
       " ('Save-The-World-From-Effects-Of-Global-Warming-398539503832141', 5),\n",
       " ('globalwarmingsolved', 5),\n",
       " ('CFACTCampus', 4),\n",
       " ('wwpagws', 4),\n",
       " ('The-Australian-ANTI-Greens-158418580891970', 4),\n",
       " ('BulletinOfTheAtomicScientists', 4),\n",
       " ('industrialprogress', 4),\n",
       " ('Earth-Uprising-106427537392423', 4),\n",
       " ('ThisIsZeroHour', 4),\n",
       " ('IPCCScholarship', 4),\n",
       " ('CANInternational', 4),\n",
       " ('Effect-Of-Climate-Change-1189951081032559', 4),\n",
       " ('callforclimate', 4),\n",
       " ('jimehansen', 4),\n",
       " ('YaleProgramOnClimateChangeCommunication', 4),\n",
       " ('NOAAClimateGov', 4),\n",
       " ('climate.change.crusade.org', 4),\n",
       " ('envissues', 4),\n",
       " ('R2ANM', 3),\n",
       " ('noteviljustwrong', 3),\n",
       " ('Climate-debate-response-team-382162442600207', 3),\n",
       " ('climatehustle2', 3),\n",
       " ('mothersfornuclear', 3),\n",
       " ('BBCScienceNews', 3),\n",
       " ('thenatureconservancy', 3),\n",
       " ('Greenpeace.Rainbow.Warrior', 3),\n",
       " ('sunrisemvmt', 3),\n",
       " ('Mason4C', 3),\n",
       " ('gretathunbergsweden', 3),\n",
       " ('climatecentral', 3),\n",
       " ('WorldWarZeroOrg', 3),\n",
       " ('natecolevol', 3),\n",
       " ('SustDev', 3),\n",
       " ('climatesolutions', 3),\n",
       " ('ClimateState', 3),\n",
       " ('UNREDDprogramme', 3),\n",
       " ('CDKNetwork', 3),\n",
       " ('RalphBAlexander', 3),\n",
       " ('EnvironmentalAction', 3),\n",
       " ('YearsOfLiving', 3),\n",
       " ('TheWildernessSociety', 3),\n",
       " ('foe.us', 3),\n",
       " ('GreenpeaceAfrica', 3),\n",
       " ('peoplevsoil', 3),\n",
       " ('UnitedNationsWater', 3),\n",
       " ('CCGWHiddenEvidence', 2),\n",
       " ('STOP-GLOBAL-WARMING-118855296926', 2),\n",
       " ('ClimateChangingHeritage', 2),\n",
       " ('The-War-On-Nature-308653886267381', 2),\n",
       " ('greenpeacepicdesk', 2),\n",
       " ('ourclimatevoices', 2),\n",
       " ('Climatechange2040', 2),\n",
       " ('climateconcerns', 2),\n",
       " ('ClimateChangeFacts', 2),\n",
       " ('climatechangetheatreaction', 2),\n",
       " ('algore', 2),\n",
       " ('wefenvironment', 2),\n",
       " ('Global-Change-Biology-119917444749361', 2),\n",
       " ('climatehistory', 2),\n",
       " ('ClimateExeter', 2),\n",
       " ('EnvironmentandClimateChange', 2),\n",
       " ('forestcarbonpartnershipfacility', 2),\n",
       " ('oroenvironmentalissues', 2),\n",
       " ('Savewaterforyourbaby', 2),\n",
       " ('grist.org', 2),\n",
       " ('republicen', 2),\n",
       " ('johnkerry', 2),\n",
       " ('AnInconvenientTruth', 2),\n",
       " ('C40Cities', 2),\n",
       " ('ClientEarth', 2),\n",
       " ('TheClimateGroup', 2),\n",
       " ('ClimateChangeInPictures', 2),\n",
       " ('GlobalWarmingPlanet', 2),\n",
       " ('ClimateOutreachCOIN', 2),\n",
       " ('ClimateChangeImpact', 2),\n",
       " ('Climate-Change-Working-Group-at-United-Nations-202727659788133', 2),\n",
       " ('mypageonclimatechange', 2),\n",
       " ('ClimateChangeNationalForumAndReview', 2),\n",
       " ('futureearth.org', 2),\n",
       " ('ClimateCommunication', 2),\n",
       " ('Water-Pollution-Forum-122361961141543', 2),\n",
       " ('enviroawareness1801', 2),\n",
       " ('carbonbrief', 2),\n",
       " ('UNEPROAP', 2),\n",
       " ('ClimateDN', 2),\n",
       " ('ccacoalition', 2),\n",
       " ('RainforestAlliance', 2),\n",
       " ('theclimatedesk', 2),\n",
       " ('earthworksaction', 2),\n",
       " ('FoodandWaterWatch', 2),\n",
       " ('OilChangeUS', 2),\n",
       " ('evolution.ncse', 2),\n",
       " ('Pennsylvania-Coalition-for-Responsible-Government-136241923085699', 2),\n",
       " ('PowerShiftNetwork', 2),\n",
       " ('UNFAO', 2),\n",
       " ('cfact', 1),\n",
       " ('iloveco2', 1),\n",
       " ('ClimateChangeLIES', 1),\n",
       " ('australianclimatemadness', 1),\n",
       " ('ClimateDepot', 1),\n",
       " ('ccdispatch', 1),\n",
       " ('TheCO2Coalition', 1),\n",
       " ('Global-Warming-Climate-Change-whatever-its-called-is-a-scam-241741379521',\n",
       "  1),\n",
       " ('Global-Climate-Scam-1392664020945768', 1),\n",
       " ('NASAClimateChange', 1),\n",
       " ('greenpeace.international', 1),\n",
       " ('acespace', 1),\n",
       " ('ClimateChangeIsReal', 1),\n",
       " ('climatereality', 1),\n",
       " ('ClimateChangeNews', 1),\n",
       " ('NatureClimateChange', 1),\n",
       " ('ClimateChangeCauses', 1),\n",
       " ('GlobalwarmingEva', 1),\n",
       " ('dontdrill', 1),\n",
       " ('BBCFuture', 1),\n",
       " ('BulletinDoomsdayClock', 1),\n",
       " ('caneurope', 1),\n",
       " ('ClimateChangeIs100PercentReal', 1),\n",
       " ('400PPM', 1),\n",
       " ('CCLLosAngeles', 1),\n",
       " ('climateone', 1),\n",
       " ('ClimateXChange', 1),\n",
       " ('climatecollageegypt', 1),\n",
       " ('The-Climate-Summit-372760484921', 1),\n",
       " ('greenfacts', 1),\n",
       " ('IanVincentCCF', 1),\n",
       " ('Climate-Change-Impacts-Adaptation-and-Mitigation-Documentation-Project-175617582535408',\n",
       "  1),\n",
       " ('Global-Warming-The-Climatic-False-Flag-155945371794383', 1),\n",
       " ('climate.02', 1),\n",
       " ('theIIED', 1),\n",
       " ('IISDnews', 1),\n",
       " ('climateactiontr', 1),\n",
       " ('GCFOfficial', 1),\n",
       " ('thearcticcycle', 1),\n",
       " ('SuperheroClubhouse', 1),\n",
       " ('artsandclimate', 1),\n",
       " ('ColumbiaClimateLaw', 1),\n",
       " ('resiliencejournal', 1),\n",
       " ('climatedefenders', 1),\n",
       " ('CAforEarth', 1),\n",
       " ('Earth-Fire-Water-Air-Elements-of-Climate-Change-487515678302797', 1),\n",
       " ('Earthrebirthnow', 1),\n",
       " ('climate.edu', 1),\n",
       " ('CAKExchange', 1),\n",
       " ('OnClimate', 1),\n",
       " ('GWENetwork', 1),\n",
       " ('AustralianClimateRealists', 1),\n",
       " ('GREEN-New-DEAL-300355393946420', 1),\n",
       " ('climateadaptation', 1),\n",
       " ('fffexeter', 1),\n",
       " ('NewBooksEnvironment', 1),\n",
       " ('climatestoriesproject', 1),\n",
       " ('PastGlobalChanges', 1),\n",
       " ('ArcticMethaneEmergencyGroup', 1),\n",
       " ('Steven-Haywood-Yaskell-407976212610290', 1),\n",
       " ('MethaneNewsGroup', 1),\n",
       " ('Education-for-Sustainable-Development-Education-au-D%C3%A9veloppement-Durable-115988995086547',\n",
       "  1),\n",
       " ('cnbcinternational', 1),\n",
       " ('EarthDayNetwork', 1),\n",
       " ('TheEnnNews', 1),\n",
       " ('DeSmogUK', 1),\n",
       " ('yearsclimatefacts', 1),\n",
       " ('crankyuncles', 1),\n",
       " ('rahmstorf', 1),\n",
       " ('fffdigital', 1),\n",
       " ('FridaysForFutureUSA', 1),\n",
       " ('eldersclimateaction', 1),\n",
       " ('climatestrikeoh', 1),\n",
       " ('labor4sustainability', 1),\n",
       " ('XRJustice', 1),\n",
       " ('fffsac', 1),\n",
       " ('KISZUO', 1),\n",
       " ('LCVoters', 1),\n",
       " ('wildlifeaction', 1),\n",
       " ('nrdcactionfund', 1),\n",
       " ('RockyMtnInst', 1),\n",
       " ('Carbon-Market-Watch-280090018702594', 1),\n",
       " ('SocietyforEcologicalRestoration', 1),\n",
       " ('AnthroMag', 1),\n",
       " ('Climate-change-106270864509676', 1),\n",
       " ('SaviorsofEnvironment', 1),\n",
       " ('greenpeaceuk', 1),\n",
       " ('greenpeace.nz', 1),\n",
       " ('firedrillfriday', 1),\n",
       " ('Greta-Thunberg-Memes-100304111377683', 1),\n",
       " ('ESECommunity', 1),\n",
       " ('thelivingplanetandclimatechange', 1),\n",
       " ('GlobalWarmingYouandI', 1),\n",
       " ('denial101x', 1),\n",
       " ('WorldPopulationBalance', 1),\n",
       " ('environmentalcoffeehouse', 1),\n",
       " ('nexusmedianews', 1),\n",
       " ('SocietyOfEnvironmentalJournalists', 1),\n",
       " ('IPBES', 1),\n",
       " ('uncclearn', 1),\n",
       " ('InternationalScience', 1),\n",
       " ('clivar', 1),\n",
       " ('ClimateFeedback', 1),\n",
       " ('PDFsSavingTrees', 1),\n",
       " ('ClimateChangeNetworkUS', 1),\n",
       " ('Halt-Copenhagen-until-CLIMATE-GATE-has-been-fully-INVESTIGATED-336459475181',\n",
       "  1),\n",
       " ('ClimateAccess', 1),\n",
       " ('docsforclimate', 1),\n",
       " ('climatesciencewatch', 1),\n",
       " ('centerforenvironmentaljournalism', 1),\n",
       " ('YaleClimateConnections', 1),\n",
       " ('usclimateandhealthalliance', 1),\n",
       " ('CLEANET', 1),\n",
       " ('climate.matters', 1),\n",
       " ('climateofficers', 1),\n",
       " ('georgetownclimate', 1),\n",
       " ('energyforhumanity', 1),\n",
       " ('BreakthroughInstitute', 1),\n",
       " ('ThePragEnvi', 1),\n",
       " ('Physical-Oceanography-and-Biophysical-Interactions-169183313267570', 1),\n",
       " ('NSIDC', 1),\n",
       " ('usgcrp', 1),\n",
       " ('ClimateChangeSmartSolutions', 1),\n",
       " ('MefEth', 1),\n",
       " ('CJAOurPower', 1),\n",
       " ('ClimateVoiceOrg', 1),\n",
       " ('CO2.Earth', 1),\n",
       " ('TRUTHINGLOBALWARMING', 1),\n",
       " ('Me-Against-Global-Warming-8705503495', 1),\n",
       " ('Climate-ChangeGlobal-Warming-324905208198057', 1),\n",
       " ('globalgoalsUN', 1),\n",
       " ('350Africa.org', 1),\n",
       " ('natives.rule.9', 1),\n",
       " ('ClimateDirectAction', 1),\n",
       " ('ClimateSaveMovement', 1),\n",
       " ('projectdrawdown', 1),\n",
       " ('wefeconomics', 1),\n",
       " ('EUClimateAction', 1),\n",
       " ('UNOCHA', 1),\n",
       " ('IntelligentLiving', 1),\n",
       " ('climatepatriot', 1),\n",
       " ('EarthGuardiansTribe', 1),\n",
       " ('youthvgovfilm', 1),\n",
       " ('rainforestactionnetwork', 1),\n",
       " ('mothersoutfront', 1),\n",
       " ('EnvironmentColorado', 1)]"
      ]
     },
     "execution_count": 39,
     "metadata": {},
     "output_type": "execute_result"
    }
   ],
   "source": [
    "c.most_common()"
   ]
  },
  {
   "cell_type": "markdown",
   "metadata": {},
   "source": [
    "### Create files with pos / neg related pages counts"
   ]
  },
  {
   "cell_type": "code",
   "execution_count": 40,
   "metadata": {},
   "outputs": [],
   "source": [
    "def sum_poz_neg(line, labeled):\n",
    "    poz_count, neg_count = 0, 0\n",
    "    poz, neg = [], []\n",
    "    for i in line:\n",
    "        if i.strip():\n",
    "            label = labeled[labeled.Page == i.strip()].Label.values[0]\n",
    "            if label == 'poz':\n",
    "                poz_count += 1 \n",
    "                poz.append(i.strip())\n",
    "            elif label == 'neg':\n",
    "                neg_count += 1 \n",
    "                neg.append(i.strip())\n",
    "            else:\n",
    "                print(f\"UNKNOWN LABEL {i.strip()}\")\n",
    "    return poz_count, neg_count, poz, neg"
   ]
  },
  {
   "cell_type": "code",
   "execution_count": 41,
   "metadata": {},
   "outputs": [],
   "source": [
    "clima_pages = {}\n",
    "with open('../data/clima-related-filtered/data-relation1.csv') as fr:\n",
    "    for line in fr.readlines():\n",
    "        tmp = line.split(';')\n",
    "        parent = tmp[0].strip()\n",
    "        parent_label = df_label[df_label.Page == parent].Label.values[0]\n",
    "        poz_count, neg_count, poz, neg = sum_poz_neg(tmp[1:], df_label)\n",
    "        clima_pages[parent] = {'label': parent_label, 'poz': poz_count, 'neg': neg_count}\n",
    "    \n",
    "with open('../data/clima-related-filtered/data-relation2.csv') as fr:\n",
    "    for line in fr.readlines():\n",
    "        tmp = line.split(';')\n",
    "        parent = tmp[0].strip()\n",
    "        parent_label = df_label[df_label.Page == parent].Label.values[0]\n",
    "        poz_count, neg_count, poz, neg = sum_poz_neg(tmp[1:], df_label)\n",
    "        clima_pages[parent] = {'label': parent_label, 'poz': poz_count, 'neg': neg_count}"
   ]
  },
  {
   "cell_type": "code",
   "execution_count": 42,
   "metadata": {},
   "outputs": [],
   "source": [
    "# SAVE FILES\n",
    "# with open('data/clima-related-filtered/data-bubbles.csv', 'w') as fw:\n",
    "#     fw.write(f\"page;label;poz-related;neg-related\\n\")\n",
    "#     for k, v in clima_pages.items():\n",
    "#         fw.write(f\"{k};{v['label']};{v['poz']};{v['neg']}\\n\")"
   ]
  },
  {
   "cell_type": "markdown",
   "metadata": {},
   "source": [
    "### Identify pages breaking the bubbles"
   ]
  },
  {
   "cell_type": "code",
   "execution_count": 43,
   "metadata": {},
   "outputs": [],
   "source": [
    "clima_pages1, clima_pages2 = {}, {}\n",
    "poz_breaking_neg_total, neg_breaking_poz_total = [], []\n",
    "\n",
    "def comp_bubbles(path, wave):\n",
    "    pages = {}\n",
    "    poz_breaking_neg_total, neg_breaking_poz_total = [], []\n",
    "    with open(path) as fr:\n",
    "        for line in fr.readlines():\n",
    "            tmp = line.split(';')\n",
    "            parent = tmp[0].strip()\n",
    "            parent_label = df_label[df_label.Page == parent].Label.values[0]\n",
    "            poz_count, neg_count, poz, neg = sum_poz_neg(tmp[1:], df_label)\n",
    "            parent_label = get_label(parent, df_label) \n",
    "            \n",
    "            if (parent_label == 'poz' and neg_count > 0):\n",
    "                neg_breaking_poz_total += neg\n",
    "            elif (parent_label == 'neg' and poz_count > 0):\n",
    "                poz_breaking_neg_total += poz\n",
    "#             else:\n",
    "#                 print(f\"{parent}{64*' '}{parent_label}\\t{poz_count}\\t{neg_count}\")\n",
    "            page_wave = 'initial' if wave == 0 else 'related 1st'\n",
    "            pages[parent] = {'label': parent_label, \n",
    "                             'poz-count': poz_count, 'neg-count': neg_count,\n",
    "                             'poz': poz, 'neg': neg,\n",
    "                             'wave': page_wave}\n",
    "    return pages, poz_breaking_neg_total, neg_breaking_poz_total"
   ]
  },
  {
   "cell_type": "code",
   "execution_count": 44,
   "metadata": {},
   "outputs": [],
   "source": [
    "clima_pages1, poz_breaking_neg_total1, neg_breaking_poz_total1 = comp_bubbles('../data/clima-related-filtered/data-relation1.csv', wave=0)\n",
    "clima_pages2, poz_breaking_neg_total2, neg_breaking_poz_total2 = comp_bubbles('../data/clima-related-filtered/data-relation2.csv', wave=1)\n",
    "\n",
    "poz_breaking_neg_total = poz_breaking_neg_total1 + poz_breaking_neg_total2\n",
    "neg_breaking_poz_total = neg_breaking_poz_total1 + neg_breaking_poz_total2"
   ]
  },
  {
   "cell_type": "code",
   "execution_count": 45,
   "metadata": {},
   "outputs": [],
   "source": [
    "c_poz = Counter(poz_breaking_neg_total)\n",
    "c_neg = Counter(neg_breaking_poz_total)"
   ]
  },
  {
   "cell_type": "code",
   "execution_count": 46,
   "metadata": {},
   "outputs": [
    {
     "data": {
      "text/plain": [
       "[('SkepticalScience', 4),\n",
       " ('ClimateHomeNews', 3),\n",
       " ('BulletinOfTheAtomicScientists', 3),\n",
       " ('mothersfornuclear', 2),\n",
       " ('ClimateChangeInPictures', 2),\n",
       " ('GlobalWarmingPlanet', 2),\n",
       " ('GlobalWarmingTimes', 2),\n",
       " ('ClimateDN', 2),\n",
       " ('iHeartClimateScientists', 1),\n",
       " ('IPCC', 1),\n",
       " ('DeSmogBlog', 1),\n",
       " ('STOP-GLOBAL-WARMING-118855296926', 1),\n",
       " ('ClimateChangingHeritage', 1),\n",
       " ('The-War-On-Nature-308653886267381', 1),\n",
       " ('ClimateChangeIs100PercentReal', 1),\n",
       " ('400PPM', 1),\n",
       " ('The-Climate-Summit-372760484921', 1),\n",
       " ('greenfacts', 1),\n",
       " ('IanVincentCCF', 1),\n",
       " ('Climate-Change-Working-Group-at-United-Nations-202727659788133', 1),\n",
       " ('Climate-Change-Impacts-Adaptation-and-Mitigation-Documentation-Project-175617582535408',\n",
       "  1),\n",
       " ('mypageonclimatechange', 1),\n",
       " ('ClimateChangeNationalForumAndReview', 1),\n",
       " ('climate.02', 1),\n",
       " ('ArcticMethaneEmergencyGroup', 1),\n",
       " ('MethaneNewsGroup', 1),\n",
       " ('YaleProgramOnClimateChangeCommunication', 1),\n",
       " ('ClimateFeedback', 1),\n",
       " ('PDFsSavingTrees', 1),\n",
       " ('ClimateChangeNetworkUS', 1),\n",
       " ('350Africa.org', 1),\n",
       " ('TheClimateGroup', 1)]"
      ]
     },
     "execution_count": 46,
     "metadata": {},
     "output_type": "execute_result"
    }
   ],
   "source": [
    "c_poz.most_common()"
   ]
  },
  {
   "cell_type": "code",
   "execution_count": 47,
   "metadata": {},
   "outputs": [
    {
     "data": {
      "text/plain": [
       "32"
      ]
     },
     "execution_count": 47,
     "metadata": {},
     "output_type": "execute_result"
    }
   ],
   "source": [
    "len(c_poz.most_common())"
   ]
  },
  {
   "cell_type": "code",
   "execution_count": 48,
   "metadata": {},
   "outputs": [
    {
     "data": {
      "text/plain": [
       "44"
      ]
     },
     "execution_count": 48,
     "metadata": {},
     "output_type": "execute_result"
    }
   ],
   "source": [
    "sum([i[1] for i in c_poz.most_common()])"
   ]
  },
  {
   "cell_type": "code",
   "execution_count": 49,
   "metadata": {},
   "outputs": [],
   "source": [
    "# SAVE FILES\n",
    "for name, varn in zip(['../data/clima-related-filtered/poz_bubble_breaking_pages.csv', '../data/clima-related-filtered/neg_bubble_breaking_pages.csv'],\n",
    "                      [c_poz.most_common(), c_neg.most_common()]):\n",
    "    with open(name, 'w') as fw:\n",
    "        fw.write(f\"page;count\\n\")\n",
    "        for i in varn:\n",
    "            fw.write(f'{i[0]};{i[1]}\\n')"
   ]
  },
  {
   "cell_type": "code",
   "execution_count": 50,
   "metadata": {},
   "outputs": [],
   "source": [
    "# SAVE AS JSON FILES\n",
    "for name, varn in zip(['../data/clima-related-filtered/bubbles1.json', '../data/clima-related-filtered/bubbles2.json'],\n",
    "                      [clima_pages1, clima_pages2]):\n",
    "    with open(name, 'w') as fw:\n",
    "        json.dump(varn, fw)"
   ]
  },
  {
   "cell_type": "markdown",
   "metadata": {},
   "source": [
    "### Number of breaking pages per wave"
   ]
  },
  {
   "cell_type": "code",
   "execution_count": 51,
   "metadata": {},
   "outputs": [],
   "source": [
    "wave1, wave2 = 0, 0\n",
    "for pages in [clima_pages1, clima_pages2]:\n",
    "    for k, v in pages.items():\n",
    "        if v['wave'] == 'initial':\n",
    "            if v['label'] == 'neg':\n",
    "                wave1 += v['poz-count']\n",
    "            else:\n",
    "                wave1 += v['neg-count']\n",
    "        elif v['wave'] == 'related 1st':\n",
    "            if v['label'] == 'neg':\n",
    "                wave2 += v['poz-count']\n",
    "            else:\n",
    "                wave2 += v['neg-count']"
   ]
  },
  {
   "cell_type": "code",
   "execution_count": 52,
   "metadata": {},
   "outputs": [
    {
     "name": "stdout",
     "output_type": "stream",
     "text": [
      "Number of breaking pages in the 1st wave: 14 and in the second wave: 37\n"
     ]
    }
   ],
   "source": [
    "print(f\"Number of breaking pages in the 1st wave: {wave1} and in the second wave: {wave2}\")"
   ]
  },
  {
   "cell_type": "markdown",
   "metadata": {},
   "source": [
    "### Confusion Matrix"
   ]
  },
  {
   "cell_type": "code",
   "execution_count": 53,
   "metadata": {},
   "outputs": [],
   "source": [
    "def source_page_cm(pages):\n",
    "    \"\"\"\n",
    "    Computes CM w.r.t. to the source page.\n",
    "    e.g. src_page label = positive; 5 positive related pages and 2 negative related pages \n",
    "         will result in pn = 1; the rest = 0\n",
    "    \"\"\"\n",
    "    pp, pn, np, nn = 0, 0, 0, 0\n",
    "    for k, v in pages.items():\n",
    "        if v['label'] == 'poz':\n",
    "            if v['neg'] == 0:\n",
    "                pp += 1\n",
    "            else:\n",
    "                pn += 1\n",
    "        elif v['label'] == 'neg':\n",
    "            if v['poz'] == 0:\n",
    "                nn += 1\n",
    "            else:\n",
    "                np += 1\n",
    "        else:\n",
    "            print(\"LABEL NOT PRESENT!\")\n",
    "    return pp, pn, np, nn\n",
    "\n",
    "# def target_pages_cm(pages):\n",
    "#     \"\"\"\n",
    "#     Computes CM w.r.t. to the source page.\n",
    "#     e.g. src_page label = positive; 5 positive related pages and 2 negative related pages \n",
    "#          will result in pn = 1; the rest = 0\n",
    "#     \"\"\"\n",
    "#     pp, pn, np, nn = 0, 0, 0, 0\n",
    "#     for k, v in pages.items():\n",
    "#         if v['label'] == 'poz':\n",
    "#             pp += v['poz']\n",
    "#             pn += v['neg']\n",
    "#         elif v['label'] == 'neg':\n",
    "#             nn += v['neg']\n",
    "#             np += v['poz']\n",
    "#         else:\n",
    "#             print(\"LABEL NOT PRESENT!\")\n",
    "#     return pp, pn, np, nn"
   ]
  },
  {
   "cell_type": "code",
   "execution_count": 54,
   "metadata": {},
   "outputs": [
    {
     "name": "stdout",
     "output_type": "stream",
     "text": [
      "parent-positive: 67        parent-negative: 30\n"
     ]
    }
   ],
   "source": [
    "print(f\"parent-positive: {len([k for k, v in clima_pages.items() if v['label'] == 'poz'])}\\\n",
    "        parent-negative: {len([k for k, v in clima_pages.items() if v['label'] == 'neg'])}\")"
   ]
  },
  {
   "cell_type": "code",
   "execution_count": 55,
   "metadata": {},
   "outputs": [
    {
     "name": "stdout",
     "output_type": "stream",
     "text": [
      "60\t7\n",
      "15\t15\n"
     ]
    }
   ],
   "source": [
    "pp, pn, np, nn = source_page_cm(clima_pages)\n",
    "print(f\"{pp}\\t{pn}\\n{np}\\t{nn}\")"
   ]
  },
  {
   "cell_type": "code",
   "execution_count": 56,
   "metadata": {},
   "outputs": [
    {
     "data": {
      "text/plain": [
       "97"
      ]
     },
     "execution_count": 56,
     "metadata": {},
     "output_type": "execute_result"
    }
   ],
   "source": [
    "len(clima_pages)"
   ]
  },
  {
   "cell_type": "code",
   "execution_count": 57,
   "metadata": {},
   "outputs": [],
   "source": [
    "# create dummy y_test and predictions\n",
    "y_test = [0]*pp + [0]*pn + [1]*np + [1]*nn\n",
    "predictions = [0]*pp + [1]*pn + [0]*np + [1]*nn"
   ]
  },
  {
   "cell_type": "code",
   "execution_count": 58,
   "metadata": {},
   "outputs": [],
   "source": [
    "cm = confusion_matrix(y_test, predictions)\n",
    "disp = ConfusionMatrixDisplay(confusion_matrix=cm, display_labels=['poz', 'neg'])\n",
    "\n",
    "# plt.xlabel('')\n",
    "# plt.ylabel('')\n",
    "# disp.plot()"
   ]
  },
  {
   "cell_type": "code",
   "execution_count": 59,
   "metadata": {},
   "outputs": [
    {
     "data": {
      "image/png": "[encoded data removed]",
      "text/plain": [
       "<Figure size 432x288 with 2 Axes>"
      ]
     },
     "metadata": {
      "needs_background": "light"
     },
     "output_type": "display_data"
    }
   ],
   "source": [
    "ax= plt.subplot()\n",
    "sns.heatmap(cm, annot=True, fmt='g', ax=ax);  #annot=True to annotate cells, ftm='g' to disable scientific notation\n",
    "\n",
    "# labels, title and ticks\n",
    "ax.set_xlabel('Predicted labels');ax.set_ylabel('True labels'); \n",
    "ax.set_title('Confusion Matrix'); \n",
    "plt.xlabel('')\n",
    "plt.ylabel('')\n",
    "ax.xaxis.set_ticklabels(['positive', 'negative']); ax.yaxis.set_ticklabels(['positive', 'negative']);"
   ]
  },
  {
   "cell_type": "markdown",
   "metadata": {},
   "source": [
    "### Create single csv file uniq page; org label; manual label"
   ]
  },
  {
   "cell_type": "code",
   "execution_count": 60,
   "metadata": {},
   "outputs": [
    {
     "name": "stdout",
     "output_type": "stream",
     "text": [
      "3307\n"
     ]
    }
   ],
   "source": [
    "all_pages = list(set(pos_all + neg_all + list(df_label.Page)))\n",
    "print(len(all_pages))"
   ]
  },
  {
   "cell_type": "code",
   "execution_count": 61,
   "metadata": {},
   "outputs": [],
   "source": [
    "def find(idx, pages):\n",
    "    tmp = [page for page in pages if str(idx) in page]\n",
    "    if len(tmp) == 1:\n",
    "        return tmp[0]\n",
    "    else:\n",
    "#         print(f\"There was {len(tmp)} pages found:\\n{tmp}\")\n",
    "        return None\n",
    "\n",
    "def get_org(page, both, pos_all, neg_all):\n",
    "    \"\"\"get label derived from init page\"\"\"\n",
    "#     if page not in both+pos_all+neg_all:\n",
    "#         page = find(page, both+pos_all+neg_all)\n",
    "\n",
    "    if page in both:\n",
    "        return 'b'\n",
    "    elif page in pos_all:\n",
    "        return 'p'\n",
    "    elif page in neg_all:\n",
    "         return 'n'\n",
    "#     else:\n",
    "#         print(f\"{page} Manually anotated, but not present in the original data. Name missmatch?\")\n",
    "\n",
    "def get_man(page, pos, neg):\n",
    "    \"\"\"get manual label\"\"\"\n",
    "#     if page not in pos+neg:\n",
    "#         page = find(page, pos+neg)\n",
    "#         print(f\"{page} Originally anotated, but not present in the manualy labelled data. Name missmatch?\")\n",
    "        \n",
    "    if page in pos:\n",
    "        return 'p'\n",
    "    elif page in neg:\n",
    "         return 'n'\n",
    "    else:\n",
    "        return None\n",
    "        print(f\"{page} could not found in manually labeled\")"
   ]
  },
  {
   "cell_type": "markdown",
   "metadata": {},
   "source": [
    "# 4. Merge with data from Josef"
   ]
  },
  {
   "cell_type": "code",
   "execution_count": 99,
   "metadata": {},
   "outputs": [
    {
     "name": "stdout",
     "output_type": "stream",
     "text": [
      "10000 10000 10000 10000 394\n"
     ]
    }
   ],
   "source": [
    "df1 = pd.read_csv('../data/d1.csv',\n",
    "                 sep=',')\n",
    "df2 = pd.read_csv('../data/d2.csv',\n",
    "                 sep=',')\n",
    "df3 = pd.read_csv('../data/d3.csv',\n",
    "                 sep=',')\n",
    "df4 = pd.read_csv('../data/d4.csv',\n",
    "                 sep=',')\n",
    "df5 = pd.read_csv('../data/d5.csv',\n",
    "                 sep=',')\n",
    "\n",
    "print(len(df1), len(df2), len(df3), len(df4), len(df5))"
   ]
  },
  {
   "cell_type": "code",
   "execution_count": 100,
   "metadata": {},
   "outputs": [
    {
     "name": "stderr",
     "output_type": "stream",
     "text": [
      "/home/spaceape/anaconda3/envs/graphs/lib/python3.7/site-packages/ipykernel_launcher.py:1: FutureWarning: Sorting because non-concatenation axis is not aligned. A future version\n",
      "of pandas will change to not sort by default.\n",
      "\n",
      "To accept the future behavior, pass 'sort=False'.\n",
      "\n",
      "To retain the current behavior and silence the warning, pass 'sort=True'.\n",
      "\n",
      "  \"\"\"Entry point for launching an IPython kernel.\n"
     ]
    }
   ],
   "source": [
    "df = pd.concat([df1, df2, df3, df4, df5], ignore_index=True)\n",
    "del df1, df2, df3, df4, df5"
   ]
  },
  {
   "cell_type": "code",
   "execution_count": 104,
   "metadata": {},
   "outputs": [
    {
     "data": {
      "text/plain": [
       "0                      NaN\n",
       "1                      NaN\n",
       "2                      NaN\n",
       "3                      NaN\n",
       "4                      NaN\n",
       "               ...        \n",
       "40389               AUTHOR\n",
       "40390           NON_PROFIT\n",
       "40391    EDUCATION_COMPANY\n",
       "40392    EDUCATION_COMPANY\n",
       "40393    EDUCATION_COMPANY\n",
       "Name: Page Category, Length: 40394, dtype: object"
      ]
     },
     "execution_count": 104,
     "metadata": {},
     "output_type": "execute_result"
    }
   ],
   "source": [
    "df['Page Category']"
   ]
  },
  {
   "cell_type": "code",
   "execution_count": 64,
   "metadata": {},
   "outputs": [],
   "source": [
    "def get_id(row):\n",
    "    ret = (row['User Name'] if not pd.isnull(row['User Name'])\n",
    "                           else row['Facebook Id'] \n",
    "                           if not pd.isnull(row['Facebook Id'])\n",
    "                           else row['URL'].split('/')[3].strip())\n",
    "    return ret"
   ]
  },
  {
   "cell_type": "code",
   "execution_count": 65,
   "metadata": {},
   "outputs": [],
   "source": [
    "def correct_pagename(row):\n",
    "    problematic = {336459475181: 'Halt Copenhagen until CLIMATE GATE has been fully INVESTIGATED',\n",
    "                   115988995086547: 'Education for Sustainable Development Education au D%C3%A9veloppement Durable',\n",
    "                   324905208198057: 'Climate ChangeGlobal Warming',\n",
    "                   106427537392423: 'Earth Uprising'}\n",
    "    if float(row['Facebook Id']) in problematic:\n",
    "        return problematic[row['Facebook Id']]\n",
    "    else:\n",
    "        return row['Page Name']\n",
    "\n",
    "def get_username(row):\n",
    "    if pd.isnull(row['User Name']):\n",
    "        return \"-\".join(row['Page Name'].split() + [str(row['Facebook Id'])])\n",
    "    else:\n",
    "        return row['User Name']\n",
    "    \n",
    "def get_url_id(row, all_pages):\n",
    "    url_id = str(row.URL.split('/')[3].strip())\n",
    "    if url_id not in all_pages:\n",
    "         url_id = row['User Name']  #\"-\".join(row['Page Name'].split() + [str(row['Facebook Id'])])\n",
    "    if url_id == 'earthuprisinginternational':\n",
    "        url_id = 'Earth-Uprising-106427537392423'\n",
    "    return url_id"
   ]
  },
  {
   "cell_type": "code",
   "execution_count": 66,
   "metadata": {},
   "outputs": [],
   "source": [
    "df['Page Name'] = df.apply(lambda row: correct_pagename(row), axis = 1)\n",
    "df['User Name'] = df.apply(lambda row: get_username(row), axis = 1)\n",
    "df['id_url'] = df.apply(lambda row: get_url_id(row, all_pages), axis = 1)"
   ]
  },
  {
   "cell_type": "code",
   "execution_count": 67,
   "metadata": {},
   "outputs": [
    {
     "data": {
      "text/plain": [
       "0                                                 UNEPROAP\n",
       "1                                                   MefEth\n",
       "2                                                    IPBES\n",
       "3                                          UNREDDprogramme\n",
       "4                                              advanceaust\n",
       "                               ...                        \n",
       "40389       Climate-Change/የአየር-ንብረት-ለውጥ/-1411444352488369\n",
       "40390                                          SkyderALERT\n",
       "40391    Climate-Change-Impacts,-Adaptation-and-Mitigat...\n",
       "40392    Climate-Change-Impacts,-Adaptation-and-Mitigat...\n",
       "40393    Climate-Change-Impacts,-Adaptation-and-Mitigat...\n",
       "Name: id_url, Length: 40394, dtype: object"
      ]
     },
     "execution_count": 67,
     "metadata": {},
     "output_type": "execute_result"
    }
   ],
   "source": [
    "df['id_url']"
   ]
  },
  {
   "cell_type": "code",
   "execution_count": 68,
   "metadata": {},
   "outputs": [],
   "source": [
    "# df.to_csv('../data/data_josef.csv', sep=';')"
   ]
  },
  {
   "cell_type": "code",
   "execution_count": 69,
   "metadata": {},
   "outputs": [
    {
     "name": "stdout",
     "output_type": "stream",
     "text": [
      "293 299\n"
     ]
    }
   ],
   "source": [
    "print(len(set(df['Page Name'])), len(set(df['id_url'])))"
   ]
  },
  {
   "cell_type": "code",
   "execution_count": 70,
   "metadata": {},
   "outputs": [
    {
     "data": {
      "text/plain": [
       "['Climate-Change-Impacts,-Adaptation-and-Mitigation-Documentation-Project-175617582535408',\n",
       " 'Climate-Change/የአየር-ንብረት-ለውጥ/-1411444352488369',\n",
       " 'Global-Warming---The-Climatic-False-Flag-155945371794383',\n",
       " 'Earth-Fire-Water-Air---Elements-of-Climate-Change-487515678302797']"
      ]
     },
     "execution_count": 70,
     "metadata": {},
     "output_type": "execute_result"
    }
   ],
   "source": [
    "mis = [i for i in set(df['id_url']) if i not in all_pages]\n",
    "mis"
   ]
  },
  {
   "cell_type": "code",
   "execution_count": 71,
   "metadata": {},
   "outputs": [
    {
     "data": {
      "text/plain": [
       "30128    Earth Fire Water Air - Elements of Climate Change\n",
       "30134    Earth Fire Water Air - Elements of Climate Change\n",
       "30290    Climate Change Impacts, Adaptation and Mitigat...\n",
       "30464    Earth Fire Water Air - Elements of Climate Change\n",
       "30510             Global Warming - The Climatic False Flag\n",
       "                               ...                        \n",
       "40388                        Climate Change/የአየር ንብረት ለውጥ/\n",
       "40389                        Climate Change/የአየር ንብረት ለውጥ/\n",
       "40391    Climate Change Impacts, Adaptation and Mitigat...\n",
       "40392    Climate Change Impacts, Adaptation and Mitigat...\n",
       "40393    Climate Change Impacts, Adaptation and Mitigat...\n",
       "Name: Page Name, Length: 336, dtype: object"
      ]
     },
     "execution_count": 71,
     "metadata": {},
     "output_type": "execute_result"
    }
   ],
   "source": [
    "# df[(~df.id_url.isin(all_pages)) & (~df['User Name'].isin(all_pages))]['Page Name']\n",
    "df[(~df.id_url.isin(all_pages))]['Page Name']"
   ]
  },
  {
   "cell_type": "code",
   "execution_count": 72,
   "metadata": {},
   "outputs": [
    {
     "data": {
      "text/plain": [
       "295"
      ]
     },
     "execution_count": 72,
     "metadata": {},
     "output_type": "execute_result"
    }
   ],
   "source": [
    "len(set(df_label[\"Page\"]) - set(df[\"Page Name\"]))"
   ]
  },
  {
   "cell_type": "code",
   "execution_count": 73,
   "metadata": {},
   "outputs": [
    {
     "data": {
      "text/plain": [
       "['SaviorsofEnvironment',\n",
       " 'cnbcinternational',\n",
       " 'Earth-Fire-Water-Air-Elements-of-Climate-Change-487515678302797',\n",
       " 'Climate-Change-Impacts-Adaptation-and-Mitigation-Documentation-Project-175617582535408',\n",
       " 'Global-Warming-Climate-Change-whatever-its-called-is-a-scam-241741379521',\n",
       " 'oxygenforfree',\n",
       " 'Me-Against-Global-Warming-8705503495',\n",
       " 'Global-Warming-The-Climatic-False-Flag-155945371794383',\n",
       " 'ClimateChangeFacts',\n",
       " 'Climate-Change%E1%8B%A8%E1%8A%A0%E1%8B%A8%E1%88%AD-%E1%8A%95%E1%89%A5%E1%88%A8%E1%89%B5-%E1%88%88%E1%8B%8D%E1%8C%A5-1411444352488369',\n",
       " 'climatedefenders']"
      ]
     },
     "execution_count": 73,
     "metadata": {},
     "output_type": "execute_result"
    }
   ],
   "source": [
    "tmp1 = set(df[\"Page Name\"])\n",
    "tmp2 = set(df[\"User Name\"])\n",
    "tmp3 = set(df[\"id_url\"])\n",
    "[i for i in set(df_label[\"Page\"]) if i not in tmp1 and i not in tmp2 and i not in tmp3]"
   ]
  },
  {
   "cell_type": "code",
   "execution_count": 74,
   "metadata": {},
   "outputs": [],
   "source": [
    "# with open(\"/home/spaceape/projects/kaca-dp/data/to-scrape-2.csv\", \"w\") as fw:\n",
    "#     for i in [i for i in set(df_label[\"Page\"]) if i not in tmp1 and i not in tmp2 and i not in tmp3]:\n",
    "#         fw.write(f\"https://www.facebook.com/{i}\\n\")"
   ]
  },
  {
   "cell_type": "code",
   "execution_count": null,
   "metadata": {},
   "outputs": [],
   "source": []
  },
  {
   "cell_type": "code",
   "execution_count": 75,
   "metadata": {},
   "outputs": [],
   "source": [
    "# save df with missing pages removed\n",
    "# df = df[(df.id_url.isin(all_pages))]"
   ]
  },
  {
   "cell_type": "code",
   "execution_count": 76,
   "metadata": {},
   "outputs": [
    {
     "data": {
      "text/plain": [
       "{'Climate Change Impacts, Adaptation and Mitigation Documentation Project',\n",
       " 'Climate Change/የአየር ንብረት ለውጥ/',\n",
       " 'Earth Fire Water Air - Elements of Climate Change',\n",
       " 'Global Warming - The Climatic False Flag'}"
      ]
     },
     "execution_count": 76,
     "metadata": {},
     "output_type": "execute_result"
    }
   ],
   "source": [
    "set(df[df.id_url.isin(mis)]['Page Name'])"
   ]
  },
  {
   "cell_type": "markdown",
   "metadata": {},
   "source": [
    "### Check the pages from bubbles with pages from Josef"
   ]
  },
  {
   "cell_type": "code",
   "execution_count": 77,
   "metadata": {},
   "outputs": [],
   "source": [
    "distinct_from_bubbles = []\n",
    "for pages in [clima_pages1, clima_pages2]:\n",
    "    for k,v in pages.items():\n",
    "        distinct_from_bubbles.append(k)\n",
    "        distinct_from_bubbles += v['poz']\n",
    "        distinct_from_bubbles += v['neg']"
   ]
  },
  {
   "cell_type": "code",
   "execution_count": 78,
   "metadata": {},
   "outputs": [
    {
     "data": {
      "text/plain": [
       "['Climate-Change-Impacts-Adaptation-and-Mitigation-Documentation-Project-175617582535408',\n",
       " 'ClimateChangeFacts',\n",
       " 'Earth-Fire-Water-Air-Elements-of-Climate-Change-487515678302797',\n",
       " 'Global-Warming-Climate-Change-whatever-its-called-is-a-scam-241741379521',\n",
       " 'Global-Warming-The-Climatic-False-Flag-155945371794383',\n",
       " 'Me-Against-Global-Warming-8705503495',\n",
       " 'SaviorsofEnvironment',\n",
       " 'climatedefenders',\n",
       " 'cnbcinternational']"
      ]
     },
     "execution_count": 78,
     "metadata": {},
     "output_type": "execute_result"
    }
   ],
   "source": [
    "missing_in_josef = list(set(distinct_from_bubbles).difference(set(df['id_url'].values)))\n",
    "sorted(missing_in_josef)"
   ]
  },
  {
   "cell_type": "code",
   "execution_count": 79,
   "metadata": {},
   "outputs": [],
   "source": [
    "# Read pages sent to Josef for scraping\n",
    "sent_to_josef = []\n",
    "for path in ['../data/pos_split.csv', '../data/neg_split.csv']:\n",
    "    with open(path) as fr:\n",
    "        for line in fr.readlines():\n",
    "            sent_to_josef.append(line.split('/')[-1].strip())"
   ]
  },
  {
   "cell_type": "code",
   "execution_count": 80,
   "metadata": {},
   "outputs": [
    {
     "name": "stdout",
     "output_type": "stream",
     "text": [
      "9 9\n"
     ]
    }
   ],
   "source": [
    "c = 0\n",
    "for i in missing_in_josef:\n",
    "    if i in sent_to_josef:\n",
    "        c += 1\n",
    "\n",
    "print(c, len(missing_in_josef))"
   ]
  },
  {
   "cell_type": "code",
   "execution_count": 81,
   "metadata": {},
   "outputs": [
    {
     "data": {
      "text/plain": [
       "[]"
      ]
     },
     "execution_count": 81,
     "metadata": {},
     "output_type": "execute_result"
    }
   ],
   "source": [
    "list(set(missing_in_josef).difference(set(sent_to_josef)))"
   ]
  },
  {
   "cell_type": "code",
   "execution_count": 82,
   "metadata": {},
   "outputs": [],
   "source": [
    "# with open('../data/to-scrape-pages.csv', 'w') as fw:\n",
    "#     for i in sorted(missing_in_josef):\n",
    "#         fw.write(f\"https://www.facebook.com/{i}\\n\")"
   ]
  },
  {
   "cell_type": "code",
   "execution_count": 83,
   "metadata": {},
   "outputs": [],
   "source": [
    "# conversion of page name into id I used\n",
    "# name2id = {r['Page Name']: get_id(r) for i, r in df.iterrows()}\n",
    "# id2name = {get_id(r): r['Page Name'] for i, r in df.iterrows()}\n",
    "\n",
    "# # Manual correction\n",
    "# name2id['Earth Uprising'] = 'Earth-Uprising-106427537392423'\n",
    "# id2name['earthuprisinginternational'] = 'Earth Uprising'"
   ]
  },
  {
   "cell_type": "code",
   "execution_count": 84,
   "metadata": {},
   "outputs": [],
   "source": [
    "### Save page; org_label; manual_label\n",
    "# with open('/home/spaceape/projects/kaca-dp/data/final-labels', 'w') as fw:\n",
    "#     fw.write(f\"name;id;related_label;manual_label\\n\")\n",
    "#     for page in all_pages:\n",
    "#         org, man = '', ''\n",
    "#         org = get_org(page, both_all, pos_all, neg_all)\n",
    "#         man = get_man(page, label_pos, label_neg)\n",
    "#         if org and man:\n",
    "#             if page in id2name:\n",
    "#                 name = id2name[page]  \n",
    "#             else:\n",
    "#                 try:\n",
    "#                     int(page.split('-')[-1])\n",
    "#                     name = \" \".join(page.split('-')[:-1])\n",
    "#                 except:\n",
    "#                     print(page)\n",
    "#             fw.write(f\"{name};{page};{org};{man}\\n\")"
   ]
  },
  {
   "cell_type": "code",
   "execution_count": 85,
   "metadata": {},
   "outputs": [
    {
     "data": {
      "text/plain": [
       "Index(['Angry', 'Care', 'Comments', 'Created', 'Description', 'Facebook Id',\n",
       "       'Final Link', 'Followers at Posting', 'Haha', 'Image Text',\n",
       "       'Is Video Owner?', 'Likes', 'Likes at Posting', 'Link', 'Link Text',\n",
       "       'Love', 'Message',\n",
       "       'Overperforming Score (weighted  —  Likes 1x Shares 1x Comments 1x Love 1x Wow 1x Haha 1x Sad 1x Angry 1x )',\n",
       "       'Page Admin Top Country', 'Page Category', 'Page Created',\n",
       "       'Page Description', 'Page Name', 'Post Created', 'Post Created Date',\n",
       "       'Post Created Time', 'Post Views', 'Sad', 'Shares', 'Sponsor Category',\n",
       "       'Sponsor Id', 'Sponsor Name', 'Total Interactions', 'Total Views',\n",
       "       'Total Views For All Crossposts', 'Type', 'URL', 'User Name',\n",
       "       'Video Length', 'Video Share Status', 'Wow', 'id_url'],\n",
       "      dtype='object')"
      ]
     },
     "execution_count": 85,
     "metadata": {},
     "output_type": "execute_result"
    }
   ],
   "source": [
    "df.columns"
   ]
  },
  {
   "cell_type": "code",
   "execution_count": 86,
   "metadata": {},
   "outputs": [
    {
     "data": {
      "text/plain": [
       "peoplevsoil                                  2940\n",
       "wefenvironment                               1187\n",
       "environmentalcoffeehouse                     1145\n",
       "wefeconomics                                  923\n",
       "CFACTCampus                                   813\n",
       "                                             ... \n",
       "Global-Climate-Scam-1392664020945768            1\n",
       "Effect-Of-Climate-Change-1189951081032559       1\n",
       "globalwarmingsolved                             1\n",
       "crankyuncles                                    1\n",
       "johnkerry                                       1\n",
       "Name: id_url, Length: 299, dtype: int64"
      ]
     },
     "execution_count": 86,
     "metadata": {},
     "output_type": "execute_result"
    }
   ],
   "source": [
    "df.id_url.value_counts()"
   ]
  },
  {
   "cell_type": "code",
   "execution_count": 87,
   "metadata": {},
   "outputs": [
    {
     "data": {
      "text/plain": [
       "People vs. Oil                        2940\n",
       "Environment - World Economic Forum    1187\n",
       "Environmental Coffeehouse             1145\n",
       "Economics - World Economic Forum       923\n",
       "CFACT Campus                           813\n",
       "                                      ... \n",
       "The Climate Desk                         1\n",
       "Effect Of Climate Change                 1\n",
       "Global Warming Solved                    1\n",
       "Climate Change Facts                     1\n",
       "Our Climate Voices                       1\n",
       "Name: Page Name, Length: 293, dtype: int64"
      ]
     },
     "execution_count": 87,
     "metadata": {},
     "output_type": "execute_result"
    }
   ],
   "source": [
    "df['Page Name'].value_counts()"
   ]
  },
  {
   "cell_type": "code",
   "execution_count": 88,
   "metadata": {},
   "outputs": [
    {
     "name": "stdout",
     "output_type": "stream",
     "text": [
      "295 of FB pages for which we have posts are present in our data of relations\n"
     ]
    }
   ],
   "source": [
    "print(f\"{sum([i in all_pages for i in list(set(df.id_url))])} of FB pages for which we have posts are present in our data of relations\")"
   ]
  },
  {
   "cell_type": "code",
   "execution_count": 89,
   "metadata": {},
   "outputs": [
    {
     "data": {
      "text/plain": [
       "40394"
      ]
     },
     "execution_count": 89,
     "metadata": {},
     "output_type": "execute_result"
    }
   ],
   "source": [
    "len(df)"
   ]
  },
  {
   "cell_type": "code",
   "execution_count": 90,
   "metadata": {},
   "outputs": [],
   "source": [
    "# df_labeled = df[~df['id'].isin(label_pos+label_neg)]"
   ]
  },
  {
   "cell_type": "code",
   "execution_count": 91,
   "metadata": {},
   "outputs": [],
   "source": [
    "# df_labeled.id.value_counts()"
   ]
  },
  {
   "cell_type": "code",
   "execution_count": 92,
   "metadata": {},
   "outputs": [],
   "source": [
    "df['org_label'] = df.apply(lambda row: get_org(row.id_url, both_all, pos_all, neg_all), axis = 1)\n",
    "df['man_label'] = df.apply(lambda row: get_man(row.id_url, label_pos, label_neg), axis = 1)"
   ]
  },
  {
   "cell_type": "code",
   "execution_count": 93,
   "metadata": {},
   "outputs": [
    {
     "data": {
      "text/plain": [
       "{('Advance Australia', 'advanceaust', 'advanceaust'),\n",
       " ('Climate Change Impacts, Adaptation and Mitigation Documentation Project',\n",
       "  'Climate-Change-Impacts,-Adaptation-and-Mitigation-Documentation-Project-175617582535408',\n",
       "  'Climate-Change-Impacts,-Adaptation-and-Mitigation-Documentation-Project-175617582535408'),\n",
       " ('Climate Change/የአየር ንብረት ለውጥ/',\n",
       "  'Climate-Change/የአየር-ንብረት-ለውጥ/-1411444352488369',\n",
       "  'Climate-Change/የአየር-ንብረት-ለውጥ/-1411444352488369'),\n",
       " ('Earth Fire Water Air - Elements of Climate Change',\n",
       "  'Earth-Fire-Water-Air---Elements-of-Climate-Change-487515678302797',\n",
       "  'Earth-Fire-Water-Air---Elements-of-Climate-Change-487515678302797'),\n",
       " ('Global Warming - The Climatic False Flag',\n",
       "  'Global-Warming---The-Climatic-False-Flag-155945371794383',\n",
       "  'Global-Warming---The-Climatic-False-Flag-155945371794383'),\n",
       " ('Heartland Institute', 'HeartlandInstitute', 'HeartlandInstitute'),\n",
       " ('Journal of Animal Ecology', 'AnimalEcology', 'AnimalEcology'),\n",
       " ('Onemillionofus', 'OneMillionOfUs', 'OneMillionOfUs'),\n",
       " ('PolicyEd', 'policyed', 'policyed')}"
      ]
     },
     "execution_count": 93,
     "metadata": {},
     "output_type": "execute_result"
    }
   ],
   "source": [
    "### NESPAROVANO -- manual labels -- not related -- muze se smazat\n",
    "delete = set(url_id for url_id in df[pd.isnull(df.man_label)].id_url)\n",
    "\n",
    "set((name, idx, url_id) for name, idx, url_id in zip(df[pd.isnull(df.man_label)]['Page Name'], \n",
    "                                                     df[pd.isnull(df.man_label)]['User Name'], \n",
    "                                                     df[pd.isnull(df.man_label)].id_url))"
   ]
  },
  {
   "cell_type": "code",
   "execution_count": 98,
   "metadata": {},
   "outputs": [
    {
     "data": {
      "text/plain": [
       "{'AnimalEcology',\n",
       " 'Climate-Change-Impacts,-Adaptation-and-Mitigation-Documentation-Project-175617582535408',\n",
       " 'Climate-Change/የአየር-ንብረት-ለውጥ/-1411444352488369',\n",
       " 'Earth-Fire-Water-Air---Elements-of-Climate-Change-487515678302797',\n",
       " 'Global-Warming---The-Climatic-False-Flag-155945371794383',\n",
       " 'HeartlandInstitute',\n",
       " 'OneMillionOfUs',\n",
       " 'advanceaust',\n",
       " 'policyed'}"
      ]
     },
     "execution_count": 98,
     "metadata": {},
     "output_type": "execute_result"
    }
   ],
   "source": [
    "delete"
   ]
  },
  {
   "cell_type": "code",
   "execution_count": 94,
   "metadata": {},
   "outputs": [],
   "source": [
    "df = df[(~df.id_url.isin(delete))]"
   ]
  },
  {
   "cell_type": "code",
   "execution_count": null,
   "metadata": {},
   "outputs": [],
   "source": []
  },
  {
   "cell_type": "code",
   "execution_count": 95,
   "metadata": {},
   "outputs": [
    {
     "data": {
      "text/plain": [
       "set()"
      ]
     },
     "execution_count": 95,
     "metadata": {},
     "output_type": "execute_result"
    }
   ],
   "source": [
    "### NESPAROVANO -- org labels\n",
    "set((name, idx) for name, idx in zip(df[pd.isnull(df.org_label)]['Page Name'], df[pd.isnull(df.org_label)]['User Name']))"
   ]
  },
  {
   "cell_type": "code",
   "execution_count": 96,
   "metadata": {},
   "outputs": [],
   "source": [
    "df.to_csv('../data/labeled_posts.csv', sep='\\t')"
   ]
  },
  {
   "cell_type": "code",
   "execution_count": 97,
   "metadata": {},
   "outputs": [],
   "source": [
    "# with open('/home/spaceape/projects/kaca-dp/data/all-pages', 'w') as fw:\n",
    "#     for page in all_pages:\n",
    "#         fw.write(f\"{page}\\n\")"
   ]
  },
  {
   "cell_type": "code",
   "execution_count": null,
   "metadata": {},
   "outputs": [],
   "source": []
  }
 ],
 "metadata": {
  "kernelspec": {
   "display_name": "Python 3",
   "language": "python",
   "name": "python3"
  },
  "language_info": {
   "codemirror_mode": {
    "name": "ipython",
    "version": 3
   },
   "file_extension": ".py",
   "mimetype": "text/x-python",
   "name": "python",
   "nbconvert_exporter": "python",
   "pygments_lexer": "ipython3",
   "version": "3.7.4"
  }
 },
 "nbformat": 4,
 "nbformat_minor": 2
}
